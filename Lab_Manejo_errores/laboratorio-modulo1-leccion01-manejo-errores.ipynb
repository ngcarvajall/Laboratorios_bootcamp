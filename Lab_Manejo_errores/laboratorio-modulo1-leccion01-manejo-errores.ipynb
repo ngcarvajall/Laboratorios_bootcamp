{
 "cells": [
  {
   "cell_type": "markdown",
   "metadata": {},
   "source": [
    "\n",
    "<div style=\"text-align: center;\">\n",
    "  <img src=\"https://github.com/Hack-io-Data/Imagenes/blob/main/01-LogosHackio/logo_celeste@4x.png?raw=true\" alt=\"esquema\" />\n",
    "</div>\n"
   ]
  },
  {
   "cell_type": "markdown",
   "metadata": {},
   "source": [
    "# Laboratorio de Python: manejo de errores."
   ]
  },
  {
   "cell_type": "markdown",
   "metadata": {},
   "source": [
    "## Ejercicio 1: División con manejo de excepciones\n",
    "\n",
    "Escribe un programa que pida al usuario dos números e intente dividirlos. Si el usuario ingresa un valor no numérico o intenta dividir por cero, maneja esas excepciones de manera adecuada. Asegúrate de mostrar un mensaje indicando si la división fue exitosa o no.\n"
   ]
  },
  {
   "cell_type": "code",
   "execution_count": 15,
   "metadata": {},
   "outputs": [
    {
     "name": "stdout",
     "output_type": "stream",
     "text": [
      "debe ingresar un número válido\n"
     ]
    }
   ],
   "source": [
    "try:\n",
    "    num1 = int(input(\"Ingrese un número: \"))\n",
    "    num2 = int(input('Dame otro número'))\n",
    "    \n",
    "    resultado = num1 / num2\n",
    "    \n",
    "    print(f\"el resultado de la división es: {round(resultado, 2)}\")\n",
    "    \n",
    "# como hemos dicho antes, puede que el usuario nos pase una letra, por lo que no podremos convertirlo a integer. Ponemos el primer except con un ValueError indicando que no nos ha pasado un valor correcto\n",
    "except ValueError:\n",
    "    print(\"debe ingresar un número válido\")\n",
    "    \n",
    "# pero además otro error que nos podemos encontrar es que el usuario nos pase un 0, el cual si podrá convertir a integer, pero no podremos usarlo para dividir, por lo que generamos otro except para este posible error. \n",
    "except ZeroDivisionError:\n",
    "    print(\"no se puede dividir entre cero\")"
   ]
  },
  {
   "cell_type": "markdown",
   "metadata": {},
   "source": [
    "## Ejercicio 2: Acceso a archivos\n",
    "\n",
    "Escribe un programa que intente abrir un archivo llamado \"datos.txt\". Si el archivo no existe, captura la excepción y muestra un mensaje de error. Asegúrate de cerrar el archivo correctamente en la sección `finally`.\n"
   ]
  },
  {
   "cell_type": "code",
   "execution_count": 46,
   "metadata": {},
   "outputs": [
    {
     "name": "stdout",
     "output_type": "stream",
     "text": [
      "Estoy intentando abrir un archivo que noe existe\n"
     ]
    }
   ],
   "source": [
    "try:\n",
    "    documentos = open('datos.txt')\n",
    "except IOError:\n",
    "    print('Estoy intentando abrir un archivo que no existe')\n",
    "else:\n",
    "    documentos.close()"
   ]
  },
  {
   "cell_type": "markdown",
   "metadata": {},
   "source": [
    "## Ejercicio 3: Conversión de cadenas a enteros\n",
    "\n",
    "Escribe un programa que pida una lista de números separados por comas y convierta cada valor a un número entero. Maneja las excepciones para valores que no sean convertibles y asegúrate de informar si la conversión fue exitosa o no.\n"
   ]
  },
  {
   "cell_type": "code",
   "execution_count": 8,
   "metadata": {},
   "outputs": [
    {
     "name": "stdout",
     "output_type": "stream",
     "text": [
      "No lo puedo convertir\n"
     ]
    },
    {
     "data": {
      "text/plain": [
       "[1, 2, 3]"
      ]
     },
     "execution_count": 8,
     "metadata": {},
     "output_type": "execute_result"
    }
   ],
   "source": [
    "numeros = input(\"dame una lista de numeros\").split(\",\")\n",
    "numeros\n",
    "vacia = []\n",
    "\n",
    "for i in numeros:\n",
    "    try:\n",
    "        vacia.append(int(i))\n",
    "\n",
    "    except:\n",
    "        print('No lo puedo convertir')\n",
    "\n",
    "vacia"
   ]
  },
  {
   "cell_type": "markdown",
   "metadata": {},
   "source": [
    "#### Ejercicio 4: Cálculo del promedio con manejo de excepciones\n",
    "\n",
    "Escribe una función que reciba una lista de números y calcule su promedio. Si la lista está vacía, lanza una excepción personalizada y maneja el error adecuadamente.\n"
   ]
  },
  {
   "cell_type": "code",
   "execution_count": 14,
   "metadata": {},
   "outputs": [
    {
     "data": {
      "text/plain": [
       "6.0"
      ]
     },
     "execution_count": 14,
     "metadata": {},
     "output_type": "execute_result"
    }
   ],
   "source": [
    "def ana(lista):\n",
    "    if len(lista) == 0:\n",
    "        pass\n",
    "    else:\n",
    "        return sum(lista)/len(lista)\n",
    "\n",
    "ana([5,6,7])"
   ]
  },
  {
   "cell_type": "code",
   "execution_count": 10,
   "metadata": {},
   "outputs": [
    {
     "name": "stdout",
     "output_type": "stream",
     "text": [
      "La lista está vacía\n"
     ]
    }
   ],
   "source": [
    "def promedio(lista):\n",
    "    try:\n",
    "        return sum(lista)/len(lista)\n",
    "    except:\n",
    "        print('La lista está vacía')\n",
    "\n",
    "promedio([])"
   ]
  },
  {
   "cell_type": "markdown",
   "metadata": {},
   "source": [
    "#### Ejercicio 5: Conversión segura de números\n",
    "\n",
    "Escribe un programa que convierta una cadena a número flotante e intente realizar una operación aritmética. Si la conversión falla, maneja la excepción y continúa con el flujo normal."
   ]
  },
  {
   "cell_type": "code",
   "execution_count": 33,
   "metadata": {},
   "outputs": [
    {
     "name": "stdout",
     "output_type": "stream",
     "text": [
      "Se ha introducido un valor erróneo\n",
      "3\n"
     ]
    }
   ],
   "source": [
    "try:\n",
    "    numeros = float(input(\"dame un numero\"))\n",
    "except ValueError:\n",
    "    print('Se ha introducido un valor erróneo') ### en el caso de no tener numero, me imprime eso y me asigna un valor predeterminado\n",
    "    numeros = 1\n",
    "except:\n",
    "    print('Has hecho algo mal, no puedo continuar')\n",
    "finally:\n",
    "    producto = numeros*3 ### toma el primer numero y lo trae al producto\n",
    "    print(producto)\n"
   ]
  },
  {
   "cell_type": "markdown",
   "metadata": {},
   "source": [
    "#### Ejercicio 6: Acceso a claves en diccionarios\n",
    "\n",
    "Escribe un programa que intente acceder a una clave específica en un diccionario. Si la clave no existe, maneja la excepción `KeyError` y muestra un mensaje indicando el problema."
   ]
  },
  {
   "cell_type": "code",
   "execution_count": 37,
   "metadata": {},
   "outputs": [
    {
     "name": "stdout",
     "output_type": "stream",
     "text": [
      "La clave no existe\n"
     ]
    }
   ],
   "source": [
    "alumno = {\n",
    "    \"nombre\": \"Laura\",\n",
    "    \"edad\": 22,\n",
    "    \"carrera\": \"Biología\"\n",
    "}\n",
    "try:\n",
    "    nota_media = alumno['nota_media']\n",
    "except KeyError:\n",
    "    print('La clave no existe')\n",
    "\n"
   ]
  },
  {
   "cell_type": "markdown",
   "metadata": {},
   "source": [
    "\n",
    "#### Ejercicio 7: Verificación de entradas de usuario\n",
    "\n",
    "Escribe un programa que pida al usuario que introduzca su edad. Si el usuario ingresa un valor no numérico o un valor fuera del rango esperado (por ejemplo, menor que 0 o mayor que 120), maneja las excepciones adecuadamente."
   ]
  },
  {
   "cell_type": "code",
   "execution_count": 3,
   "metadata": {},
   "outputs": [
    {
     "name": "stdout",
     "output_type": "stream",
     "text": [
      "La edad no es válida, debe estar entre 0 y 120 años.\n"
     ]
    }
   ],
   "source": [
    "try:\n",
    "    edad = int(input(\"Ingresa tu edad: \"))\n",
    "    \n",
    "    if edad < 0 or edad > 120:\n",
    "        print(\"La edad no es válida, debe estar entre 0 y 120 años.\")\n",
    "    else:\n",
    "        print(f\"El paciente de la división tiene: {edad} años\")\n",
    "        \n",
    "except ValueError:\n",
    "    print(\"Debe ingresar un número válido.\")\n",
    "\n",
    "except:\n",
    "    print('Has generado un error catastrófico')"
   ]
  },
  {
   "cell_type": "markdown",
   "metadata": {},
   "source": [
    "#### Ejercicio 8: Extracción de valores de una lista\n",
    "\n",
    "Escribe una función que intente acceder a un índice específico en una lista. Si el índice está fuera del rango, maneja la excepción `IndexError` y muestra un mensaje adecuado.\n"
   ]
  },
  {
   "cell_type": "code",
   "execution_count": 6,
   "metadata": {},
   "outputs": [
    {
     "name": "stdout",
     "output_type": "stream",
     "text": [
      "Estas buscando un elemento fuera del rango\n"
     ]
    }
   ],
   "source": [
    "def ana(lista):\n",
    "    try:\n",
    "        indice = int(input('¿Qué lugar de elemento buscas?'))\n",
    "        print(lista[indice])\n",
    "\n",
    "    except IndexError:\n",
    "        print('Estas buscando un elemento fuera del rango')\n",
    "    except:\n",
    "        print('Has introducido un valor no aceptable')\n",
    "\n",
    "ana([20,2,5,6,11])"
   ]
  },
  {
   "cell_type": "code",
   "execution_count": null,
   "metadata": {},
   "outputs": [],
   "source": []
  }
 ],
 "metadata": {
  "kernelspec": {
   "display_name": "Python 3",
   "language": "python",
   "name": "python3"
  },
  "language_info": {
   "codemirror_mode": {
    "name": "ipython",
    "version": 3
   },
   "file_extension": ".py",
   "mimetype": "text/x-python",
   "name": "python",
   "nbconvert_exporter": "python",
   "pygments_lexer": "ipython3",
   "version": "3.11.9"
  }
 },
 "nbformat": 4,
 "nbformat_minor": 2
}
