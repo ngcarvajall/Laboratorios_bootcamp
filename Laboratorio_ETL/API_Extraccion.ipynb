{
 "cells": [
  {
   "cell_type": "markdown",
   "metadata": {},
   "source": [
    "API - Datos Red Eléctrica"
   ]
  },
  {
   "cell_type": "code",
   "execution_count": 9,
   "metadata": {},
   "outputs": [],
   "source": [
    "import requests\n",
    "#import pandas as pd\n",
    "import dotenv as dotenv\n",
    "import os\n",
    "\n",
    "\n",
    "# Para generar una barra de proceso en los bucles for\n",
    "# -----------------------------------------------------------------------\n",
    "from tqdm import tqdm\n",
    "\n",
    "# Para trabajar con ficheros\n",
    "# -----------------------------------------------------------------------\n",
    "import os\n",
    "import pandas as pd\n",
    "import re"
   ]
  },
  {
   "cell_type": "code",
   "execution_count": 10,
   "metadata": {},
   "outputs": [],
   "source": [
    "cod_comunidades = {'Ceuta': 8744,\n",
    "                        'Melilla': 8745,\n",
    "                        'Andalucía': 4,\n",
    "                        'Aragón': 5,\n",
    "                        'Cantabria': 6,\n",
    "                        'Castilla - La Mancha': 7,\n",
    "                        'Castilla y León': 8,\n",
    "                        'Cataluña': 9,\n",
    "                        'País Vasco': 10,\n",
    "                        'Principado de Asturias': 11,\n",
    "                        'Comunidad de Madrid': 13,\n",
    "                        'Comunidad Foral de Navarra': 14,\n",
    "                        'Comunitat Valenciana': 15,\n",
    "                        'Extremadura': 16,\n",
    "                        'Galicia': 17,\n",
    "                        'Illes Balears': 8743,\n",
    "                        'Canarias': 8742,\n",
    "                        'Región de Murcia': 21,\n",
    "                        'La Rioja': 20}"
   ]
  },
  {
   "cell_type": "code",
   "execution_count": 11,
   "metadata": {},
   "outputs": [],
   "source": [
    "anios = [2019,2020,2021]\n",
    "# me hago la lista de años que busco"
   ]
  },
  {
   "cell_type": "markdown",
   "metadata": {},
   "source": [
    "API - Demanda Eléctrica"
   ]
  },
  {
   "cell_type": "code",
   "execution_count": 91,
   "metadata": {},
   "outputs": [],
   "source": [
    "headers={\"Accept\": \"application/json\",\n",
    "\"Content-Type\": \"application/json\",\n",
    "\"Host\": \"apidatos.ree.es\"}\n",
    "# creo mi destino\n",
    "ruta = \"C:\\\\Users\\\\DELL\\\\Git\\\\Laboratorio_ETL\\\\datos_demanda_electrica\"\n",
    "os.makedirs(ruta, exist_ok=True)\n",
    "# si existe bien, si no pues la crea\n",
    "for i in anios: #itero en años\n",
    "    for name, cod in cod_comunidades.items(): #itero en comunicades\n",
    "        url_demanda_electrica = f'https://apidatos.ree.es/es/datos/demanda/evolucion?start_date={i}-01-01T00:00&end_date={i}-12-31T23:59&time_trunc=month&geo_trunk=electric_system&geo_limit=ccaa&geo_ids={cod}'\n",
    "\n",
    "        response = requests.get(url_demanda_electrica, headers=headers)\n",
    "        if response.status_code == 200:\n",
    "            response_json= response.json()\n",
    "            df_demanda_electrica= pd.DataFrame(response_json['included'][0]['attributes']['values']) #tomo el primero porque solo hay uno\n",
    "            df_demanda_electrica['COD-CCAA'] = cod\n",
    "            df_demanda_electrica.to_csv(os.path.join(ruta, f'{name}_{i}.csv'))\n",
    "        else: \n",
    "            print(f'El error es {response.status_code} en {name} para el annio {i}')"
   ]
  },
  {
   "cell_type": "code",
   "execution_count": 73,
   "metadata": {},
   "outputs": [
    {
     "data": {
      "text/plain": [
       "{'type': 'Demanda',\n",
       " 'id': '10339',\n",
       " 'groupId': None,\n",
       " 'attributes': {'title': 'Demanda',\n",
       "  'description': None,\n",
       "  'color': '#ffea00',\n",
       "  'type': None,\n",
       "  'magnitude': None,\n",
       "  'composite': False,\n",
       "  'last-update': '2022-11-10T23:30:07.000+01:00',\n",
       "  'values': [{'value': 146298.76,\n",
       "    'percentage': 1,\n",
       "    'datetime': '2021-01-01T00:00:00.000+01:00'},\n",
       "   {'value': 129503.338,\n",
       "    'percentage': 1,\n",
       "    'datetime': '2021-02-01T00:00:00.000+01:00'},\n",
       "   {'value': 144652.408,\n",
       "    'percentage': 1,\n",
       "    'datetime': '2021-03-01T00:00:00.000+01:00'},\n",
       "   {'value': 129506.033,\n",
       "    'percentage': 1,\n",
       "    'datetime': '2021-04-01T00:00:00.000+02:00'},\n",
       "   {'value': 130651.022,\n",
       "    'percentage': 1,\n",
       "    'datetime': '2021-05-01T00:00:00.000+02:00'},\n",
       "   {'value': 128050.949,\n",
       "    'percentage': 1,\n",
       "    'datetime': '2021-06-01T00:00:00.000+02:00'},\n",
       "   {'value': 140864.511,\n",
       "    'percentage': 1,\n",
       "    'datetime': '2021-07-01T00:00:00.000+02:00'},\n",
       "   {'value': 130850.035,\n",
       "    'percentage': 1,\n",
       "    'datetime': '2021-08-01T00:00:00.000+02:00'},\n",
       "   {'value': 133323.629,\n",
       "    'percentage': 1,\n",
       "    'datetime': '2021-09-01T00:00:00.000+02:00'},\n",
       "   {'value': 135918.94,\n",
       "    'percentage': 1,\n",
       "    'datetime': '2021-10-01T00:00:00.000+02:00'},\n",
       "   {'value': 140846.25,\n",
       "    'percentage': 1,\n",
       "    'datetime': '2021-11-01T00:00:00.000+01:00'},\n",
       "   {'value': 141258.077,\n",
       "    'percentage': 1,\n",
       "    'datetime': '2021-12-01T00:00:00.000+01:00'}]}}"
      ]
     },
     "execution_count": 73,
     "metadata": {},
     "output_type": "execute_result"
    }
   ],
   "source": [
    "response_json['included'][0]"
   ]
  },
  {
   "cell_type": "code",
   "execution_count": 62,
   "metadata": {},
   "outputs": [
    {
     "data": {
      "text/plain": [
       "1"
      ]
     },
     "execution_count": 62,
     "metadata": {},
     "output_type": "execute_result"
    }
   ],
   "source": [
    "len(response_json['included'])"
   ]
  },
  {
   "cell_type": "markdown",
   "metadata": {},
   "source": [
    "Api - Generación"
   ]
  },
  {
   "cell_type": "code",
   "execution_count": 112,
   "metadata": {},
   "outputs": [
    {
     "name": "stdout",
     "output_type": "stream",
     "text": [
      "Error 502 en la Ceuta para el año 2019\n",
      "Error 502 en la Ceuta para el año 2020\n",
      "Error 502 en la Ceuta para el año 2021\n"
     ]
    }
   ],
   "source": [
    "headers={\"Accept\": \"application/json\",\n",
    "\"Content-Type\": \"application/json\",\n",
    "\"Host\": \"apidatos.ree.es\"}\n",
    "\n",
    "ruta_g = \"C:\\\\Users\\\\DELL\\\\Git\\\\Laboratorio_ETL\\\\datos_generacion_estructura\"\n",
    "os.makedirs(ruta_g, exist_ok=True)\n",
    "\n",
    "for i in anios:\n",
    "    for name, cod in cod_comunidades.items():\n",
    "        url_generacion_renovable = f'https://apidatos.ree.es/es/datos/generacion/estructura-renovables?start_date={i}-01-01T00:00&end_date={i}-12-31T23:59&time_trunc=month&geo_trunk=electric_system&geo_limit=ccaa&geo_ids={cod}'\n",
    "\n",
    "        response_generacion = requests.get(url_generacion_renovable, headers=headers) # me dio problemas, veamos el porqué\n",
    "        if response_generacion.status_code == 200:\n",
    "            response_generacion_json = response_generacion.json()\n",
    "            lista_df = []\n",
    "            for j in range(len(response_generacion_json['included'])): #itero aquí porque son varios elementos \n",
    "                df_generacion_estructura = pd.DataFrame(response_generacion_json['included'][j]['attributes']['values'])\n",
    "                df_generacion_estructura['type'] = response_generacion_json['included'][j]['type']\n",
    "                df_generacion_estructura['COD-CCAA'] = cod\n",
    "                lista_df.append(df_generacion_estructura)\n",
    "            df_final = pd.concat(lista_df).to_csv(os.path.join(ruta_g, f'{name}_{i}.csv'))\n",
    "        else:\n",
    "            print(f\"Error {response_generacion.status_code} en la {name} para el año {i}\")\n",
    "\n",
    "        #recuerda que te equivocaste primero, prueba con response_json\n",
    "        # será que se sobreescribe o se apendea\n",
    "        # trata de poner el codigo de cada comunidad"
   ]
  },
  {
   "cell_type": "code",
   "execution_count": 113,
   "metadata": {},
   "outputs": [
    {
     "data": {
      "text/plain": [
       "dict_keys(['data', 'included'])"
      ]
     },
     "execution_count": 113,
     "metadata": {},
     "output_type": "execute_result"
    }
   ],
   "source": [
    "response_generacion_json.keys()"
   ]
  },
  {
   "cell_type": "code",
   "execution_count": 114,
   "metadata": {},
   "outputs": [
    {
     "data": {
      "text/plain": [
       "{'type': 'Solar fotovoltaica',\n",
       " 'id': '1707',\n",
       " 'groupId': '1',\n",
       " 'attributes': {'title': 'Solar fotovoltaica',\n",
       "  'description': None,\n",
       "  'color': '#e48500',\n",
       "  'type': None,\n",
       "  'magnitude': None,\n",
       "  'composite': False,\n",
       "  'last-update': '2022-11-15T19:06:23.000+01:00',\n",
       "  'values': [{'value': 5153.449,\n",
       "    'percentage': 0.03487737464753944,\n",
       "    'datetime': '2021-01-01T00:00:00.000+01:00'},\n",
       "   {'value': 7717.789,\n",
       "    'percentage': 0.07062128878664413,\n",
       "    'datetime': '2021-02-01T00:00:00.000+01:00'},\n",
       "   {'value': 13143.273,\n",
       "    'percentage': 0.09542179470416046,\n",
       "    'datetime': '2021-03-01T00:00:00.000+01:00'},\n",
       "   {'value': 13292.921,\n",
       "    'percentage': 0.12720812141742366,\n",
       "    'datetime': '2021-04-01T00:00:00.000+02:00'},\n",
       "   {'value': 16882.492,\n",
       "    'percentage': 0.24386430544372265,\n",
       "    'datetime': '2021-05-01T00:00:00.000+02:00'},\n",
       "   {'value': 16963.17,\n",
       "    'percentage': 0.25266835545486194,\n",
       "    'datetime': '2021-06-01T00:00:00.000+02:00'},\n",
       "   {'value': 18335.209,\n",
       "    'percentage': 0.2095632585744884,\n",
       "    'datetime': '2021-07-01T00:00:00.000+02:00'},\n",
       "   {'value': 18802.174,\n",
       "    'percentage': 0.22654045420591315,\n",
       "    'datetime': '2021-08-01T00:00:00.000+02:00'},\n",
       "   {'value': 12635.07,\n",
       "    'percentage': 0.21542774659903963,\n",
       "    'datetime': '2021-09-01T00:00:00.000+02:00'},\n",
       "   {'value': 12394.702,\n",
       "    'percentage': 0.17081292923034347,\n",
       "    'datetime': '2021-10-01T00:00:00.000+02:00'},\n",
       "   {'value': 7276.071,\n",
       "    'percentage': 0.04518875162335714,\n",
       "    'datetime': '2021-11-01T00:00:00.000+01:00'},\n",
       "   {'value': 4184.007,\n",
       "    'percentage': 0.04157875335618186,\n",
       "    'datetime': '2021-12-01T00:00:00.000+01:00'}]}}"
      ]
     },
     "execution_count": 114,
     "metadata": {},
     "output_type": "execute_result"
    }
   ],
   "source": [
    "response_generacion_json['included'][2]"
   ]
  },
  {
   "cell_type": "code",
   "execution_count": 115,
   "metadata": {},
   "outputs": [
    {
     "data": {
      "text/plain": [
       "5"
      ]
     },
     "execution_count": 115,
     "metadata": {},
     "output_type": "execute_result"
    }
   ],
   "source": [
    "len(response_generacion_json['included'])"
   ]
  },
  {
   "cell_type": "code",
   "execution_count": 116,
   "metadata": {},
   "outputs": [
    {
     "data": {
      "text/plain": [
       "12"
      ]
     },
     "execution_count": 116,
     "metadata": {},
     "output_type": "execute_result"
    }
   ],
   "source": [
    "len(response_generacion_json['included'][1]['attributes']['values'])"
   ]
  },
  {
   "cell_type": "code",
   "execution_count": 117,
   "metadata": {},
   "outputs": [
    {
     "data": {
      "text/plain": [
       "{'type': 'Eólica',\n",
       " 'id': '10333',\n",
       " 'groupId': '1',\n",
       " 'attributes': {'title': 'Eólica',\n",
       "  'description': None,\n",
       "  'color': '#6fb114',\n",
       "  'type': None,\n",
       "  'magnitude': None,\n",
       "  'composite': False,\n",
       "  'last-update': '2022-11-10T23:30:06.000+01:00',\n",
       "  'values': [{'value': 126564.559,\n",
       "    'percentage': 0.8565602456420176,\n",
       "    'datetime': '2021-01-01T00:00:00.000+01:00'},\n",
       "   {'value': 80023.713,\n",
       "    'percentage': 0.7322534660577698,\n",
       "    'datetime': '2021-02-01T00:00:00.000+01:00'},\n",
       "   {'value': 106078.27,\n",
       "    'percentage': 0.7701414177817432,\n",
       "    'datetime': '2021-03-01T00:00:00.000+01:00'},\n",
       "   {'value': 78024.301,\n",
       "    'percentage': 0.7466624344730259,\n",
       "    'datetime': '2021-04-01T00:00:00.000+02:00'},\n",
       "   {'value': 39047.666,\n",
       "    'percentage': 0.564035922438966,\n",
       "    'datetime': '2021-05-01T00:00:00.000+02:00'},\n",
       "   {'value': 38798.185,\n",
       "    'percentage': 0.5779033988684599,\n",
       "    'datetime': '2021-06-01T00:00:00.000+02:00'},\n",
       "   {'value': 55639.61,\n",
       "    'percentage': 0.635935918560497,\n",
       "    'datetime': '2021-07-01T00:00:00.000+02:00'},\n",
       "   {'value': 49533.029,\n",
       "    'percentage': 0.596805182627002,\n",
       "    'datetime': '2021-08-01T00:00:00.000+02:00'},\n",
       "   {'value': 39129.84,\n",
       "    'percentage': 0.6671631622128698,\n",
       "    'datetime': '2021-09-01T00:00:00.000+02:00'},\n",
       "   {'value': 56766.639,\n",
       "    'percentage': 0.7823081095577334,\n",
       "    'datetime': '2021-10-01T00:00:00.000+02:00'},\n",
       "   {'value': 147507.567,\n",
       "    'percentage': 0.9161101929501119,\n",
       "    'datetime': '2021-11-01T00:00:00.000+01:00'},\n",
       "   {'value': 85890.104,\n",
       "    'percentage': 0.8535366814522083,\n",
       "    'datetime': '2021-12-01T00:00:00.000+01:00'}]}}"
      ]
     },
     "execution_count": 117,
     "metadata": {},
     "output_type": "execute_result"
    }
   ],
   "source": [
    "response_generacion_json['included'][1]"
   ]
  }
 ],
 "metadata": {
  "kernelspec": {
   "display_name": "Python 3",
   "language": "python",
   "name": "python3"
  },
  "language_info": {
   "codemirror_mode": {
    "name": "ipython",
    "version": 3
   },
   "file_extension": ".py",
   "mimetype": "text/x-python",
   "name": "python",
   "nbconvert_exporter": "python",
   "pygments_lexer": "ipython3",
   "version": "3.11.9"
  }
 },
 "nbformat": 4,
 "nbformat_minor": 2
}
