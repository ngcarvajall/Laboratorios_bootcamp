{
 "cells": [
  {
   "cell_type": "markdown",
   "metadata": {},
   "source": [
    "- **Hipótesis 1: La demanda eléctrica está correlacionada con la población de la provincia.** Provincias con mayor población tienden a tener una mayor demanda eléctrica.\n",
    "  \n",
    "- **Hipótesis 2: El crecimiento económico (medido por el PIB) está correlacionado con la demanda eléctrica.** Las provincias con un PIB más alto o en crecimiento experimentan una mayor demanda de energía.\n",
    "\n",
    "- **Hipótesis 3: La proporción de generación renovable está relacionada con factores económicos o geográficos.** Provincias con un mayor desarrollo económico o con condiciones geográficas favorables (como más horas de sol o viento) tienden a generar más energía renovable."
   ]
  },
  {
   "cell_type": "markdown",
   "metadata": {},
   "source": [
    "## Tareas Laboratorio Extracción\n",
    "\n",
    "En el laboratorio de hoy tendrás que extraer la información necesaria para obtener tu objetivo de las siguientes fuentes de datos (deberás usar API's y herramientas de *web scrapping*):\n",
    "\n",
    "- **Datos de la API de Red Eléctrica Española (REE):** Deberás extraer datos mensuales a nivel provincial de los siguientes aspectos:\n",
    "\n",
    "  - **Demanda Eléctrica:** Nos proporciona los datos de demanda eléctrica a nivel provincial, agregados de manera mensual. Tendrás que usar el endpoint de \"https://apidatos.ree.es/es/datos/demanda/evolucion\", añadiendo los parámetros que sean necesarios. \n",
    "\n",
    "  - **Generación Eléctrica:** Nos proporciona los datos de generación eléctrica a nivel provincial, diferenciando entre fuentes de energía (eólica, solar, hidroeléctrica, etc.), agregados de manera mensual. Tendrás que usar el endpoint de \"https://apidatos.ree.es/es/datos/generacion/estructura-renovables\", añadiendo los parámetros que sean necesarios.\n",
    "\n",
    "  La documentación de la API la encontrarás en [este link](https://www.ree.es/es/apidatos). Recuerda leer en detenimiento la documentación. \n",
    "\n",
    "- **Datos del Instituto Nacional de Estadística (INE):** Además de los datos de la REE, debes extraer y utilizar datos socioeconómicos de las siguientes páginas del INE:\n",
    "\n",
    "- **Datos Demográficos:** Extraer los datos de población por provincias, diferenciando por grupos de edad, sexo, y extrajeros. Estos datos serán utilizados para analizar cómo la población afecta a la demanda eléctrica en cada provincia.\n",
    "\n",
    "  - **Página web:** [INE - Población por provincias](https://www.ine.es/dyngs/INEbase/es/operacion.htm?c=Estadistica_C&cid=1254736177012&menu=resultados&idp=1254734710990)\n",
    "\n",
    "  - \"Principales series 1998-2022\" --> \"Por provincia\" --> \" Población por provincias, edad (3 grupos de edad), españoles/Extranjeros, Sexo y año\"\n",
    "\n",
    "- **Datos Económicos:**\n",
    "\n",
    "  - **Página web:** [INE - PIB por provincias](https://www.ine.es/dynt3/inebase/es/index.htm?padre=10426&capsel=10429). \n",
    "\n",
    "  - **Pasos para la extracción**:\" Resultados provinciales. Serie contable 2016-2021\" --> \"P.I.B. a precios de mercado y valor añadido bruto a precios básicos por ramas de actividad: Precios corrientes por provincias y periodo.\"\n",
    "\n",
    "\n",
    "\n",
    "NOTA1: Tienes que sacar muchos datos, pero recuerda que hemos aprendido herramientas de asincronia que te pueden ayudar en este paso de la ETL. \n",
    "\n",
    "NOTA2: Todos estos datos los debes sacar para los años 2019-2020-2021"
   ]
  },
  {
   "cell_type": "code",
   "execution_count": 1,
   "metadata": {},
   "outputs": [],
   "source": [
    "from selenium.webdriver.support.ui import WebDriverWait\n",
    "from selenium.webdriver.common.by import By\n",
    "from selenium.webdriver.support import expected_conditions as EC\n",
    "from time import sleep\n",
    "# Selenium para establecer la configuración del driver\n",
    "# -----------------------------------------------------------------------\n",
    "from selenium import webdriver\n",
    "\n",
    "# Para generar una barra de proceso en los bucles for\n",
    "# -----------------------------------------------------------------------\n",
    "from tqdm import tqdm\n",
    "\n",
    "# Para trabajar con ficheros\n",
    "# -----------------------------------------------------------------------\n",
    "import os\n",
    "import pandas as pd\n",
    "import re\n"
   ]
  },
  {
   "cell_type": "code",
   "execution_count": 19,
   "metadata": {},
   "outputs": [],
   "source": [
    "import pandas as pd"
   ]
  },
  {
   "cell_type": "code",
   "execution_count": 2,
   "metadata": {},
   "outputs": [],
   "source": [
    "chrome_options = webdriver.ChromeOptions()\n",
    "\n",
    "# establacemos las preferencias que queremos\n",
    "prefs = {\n",
    "    \"download.default_directory\": \"C:\\\\Users\\\\DELL\\\\Git\\\\Laboratorio_ETL\\\\datos_poblacion_provincia\",  # AQUÍ CADA UNO TENDREMOS QUE PONER LA RUTA QUE QUERAMOS PARA QUE SE GUARDEN LOS ARCHIVOS DESCARGADOS\n",
    "    \"download.prompt_for_download\": False,   # desactiva el diálogo que Chrome normalmente muestra para pedir confirmación del usuario antes de descargar un archivo\n",
    "    \"directory_upgrade\": True,\n",
    "    \"safebrowsing.enabled\": True, # Desactiva las alertas de archivos peligrosos\n",
    "    \"plugins.always_open_pdf_externally\": True,  \n",
    "    # hace que Chrome actualice el directorio de descarga predeterminado a la nueva ubicación especificada por download.default_directory si esta ha cambiado.\n",
    "}\n",
    "\n",
    "url = \"https://www.ine.es/dynt3/inebase/es/index.htm?type=pcaxis&path=/t20/e245/p08/&file=pcaxis&dh=0&capsel=2\"\n",
    "\n",
    "driver = webdriver.Chrome(options= chrome_options) # le decimos las opciones que hemos hecho previamente\n",
    "chrome_options.add_experimental_option(\"prefs\", prefs) #añade las opciones \n",
    "\n",
    "\n",
    "driver.get(url)\n",
    "driver.maximize_window()\n",
    "driver.implicitly_wait(5)"
   ]
  },
  {
   "cell_type": "code",
   "execution_count": 3,
   "metadata": {},
   "outputs": [
    {
     "name": "stdout",
     "output_type": "stream",
     "text": [
      "No encuentro el botón\n"
     ]
    }
   ],
   "source": [
    "try:\n",
    "    driver.find_element('xpath', '/html/body/div/main/section[2]/div[1]/div[1]/div[1]/ul/li/ul/li[3]/a').click()\n",
    "except: \n",
    "    print('No encuentro el botón')\n"
   ]
  },
  {
   "cell_type": "code",
   "execution_count": 4,
   "metadata": {},
   "outputs": [],
   "source": [
    "driver.execute_script(\"window.scrollBy(0, 500);\") \n",
    "sleep(3)"
   ]
  },
  {
   "cell_type": "markdown",
   "metadata": {},
   "source": [
    "A por provincias"
   ]
  },
  {
   "cell_type": "code",
   "execution_count": 5,
   "metadata": {},
   "outputs": [],
   "source": [
    "try:\n",
    "    driver.find_element('xpath', '/html/body/div[1]/main/div[2]/ul/li[4]/ul/li[1]/a').click()\n",
    "except:\n",
    "    print('No encuentro provincia')\n",
    "sleep(3)\n"
   ]
  },
  {
   "cell_type": "code",
   "execution_count": 6,
   "metadata": {},
   "outputs": [],
   "source": [
    "# # Esta es otra forma de hacerlo\n",
    "# edades = driver.find_elements(\"css selector\", \"#cri2\")\n",
    "# sleep(1)\n",
    "# cant_edades = edades[0].find_elements(By.TAG_NAME, \"option\")\n",
    "# print(len(cant_edades))\n",
    "# sleep(1)\n",
    "# for n in range(2, len(cant_edades) + 1):\n",
    "#     #elemento = WebDriverWait(driver, 10).until(EC.element_to_be_clickable((By.CSS_SELECTOR, '#cri1'))).click()\n",
    "#     WebDriverWait(driver, 10).until(EC.element_to_be_clickable((By.XPATH, f'//*[@id=\"cri1\"]/option[{n}]'))).click()\n",
    "#     sleep(1)\n",
    "\n",
    "# extranjeros = driver.find_elements(\"css selector\", \"#cri2\")\n",
    "# sleep(1)\n",
    "# driver.find_element(\"xpath\", \"/html/body/div/main/form/ul/li[1]/ul/li[3]/div/fieldset/div[2]/button[2]/i\").click()\n",
    "# cant_extranjeros = extranjeros[0].find_elements(By.TAG_NAME, \"option\")\n",
    "# sleep(1)\n",
    "# for n in range(2, len(cant_extranjeros) + 1):\n",
    "#     #elemento = WebDriverWait(driver, 10).until(EC.element_to_be_clickable((By.CSS_SELECTOR, '#cri1'))).click()\n",
    "#     WebDriverWait(driver, 10).until(EC.element_to_be_clickable((By.XPATH, f'//*[@id=\"cri2\"]/option[{n}]'))).click()\n",
    "#     sleep(1)\n",
    "\n",
    "# generos = driver.find_elements(\"css selector\", \"#cri3\")\n",
    "# sleep(1)\n",
    "# driver.find_element(\"xpath\", \"/html/body/div/main/form/ul/li[1]/ul/li[4]/div/fieldset/div[2]/button[2]/i\").click()\n",
    "# cant_generos = generos[0].find_elements(By.TAG_NAME, \"option\")\n",
    "# sleep(1)\n",
    "# for n in range(2, len(cant_generos) + 1):\n",
    "#     #elemento = WebDriverWait(driver, 10).until(EC.element_to_be_clickable((By.CSS_SELECTOR, '#cri1'))).click()\n",
    "#     WebDriverWait(driver, 10).until(EC.element_to_be_clickable((By.XPATH, f'//*[@id=\"cri3\"]/option[{n}]'))).click()\n",
    "#     sleep(1)\n",
    "\n",
    "# anios = driver.find_elements(\"css selector\", \"#periodo\")\n",
    "# cant_anios = anios[0].find_elements(By.TAG_NAME, \"option\")\n",
    "# sleep(1)\n",
    "# for n in range(2, 5):\n",
    "#     WebDriverWait(driver, 10).until(EC.element_to_be_clickable((By.XPATH, f'//*[@id=\"periodo\"]/option[{n}]'))).click()\n",
    "#     sleep(1)"
   ]
  },
  {
   "cell_type": "code",
   "execution_count": 7,
   "metadata": {},
   "outputs": [],
   "source": [
    "try:\n",
    "    driver.find_element('css selector', '#tg1 > div > fieldset > div.capaSelecTodosNinguno > button:nth-child(3) > i').click()\n",
    "except:\n",
    "    print('No encuentro sus edades')\n",
    "sleep(3)"
   ]
  },
  {
   "cell_type": "code",
   "execution_count": 8,
   "metadata": {},
   "outputs": [],
   "source": [
    "for i in range(2, 5):\n",
    "    WebDriverWait(driver, 5).until(EC.element_to_be_clickable((By.XPATH, f'//*[@id=\"cri1\"]/option[{i}]'))).click()\n",
    "    sleep(1)\n",
    "# intento que no coja todas pero sigue haciendolo...\n",
    "# esto es para las edades"
   ]
  },
  {
   "cell_type": "code",
   "execution_count": 9,
   "metadata": {},
   "outputs": [],
   "source": [
    "try:\n",
    "    driver.find_element('css selector', '#tg2 > div > fieldset > div.capaSelecTodosNinguno > button:nth-child(3) > i').click()\n",
    "except:\n",
    "    print('No encuentro si son españoles o extranjeros')\n",
    "sleep(3)"
   ]
  },
  {
   "cell_type": "code",
   "execution_count": 10,
   "metadata": {},
   "outputs": [],
   "source": [
    "for i in range(2, 5):\n",
    "    WebDriverWait(driver, 5).until(EC.element_to_be_clickable((By.XPATH, f'//*[@id=\"cri2\"]/option[{i}]'))).click()\n",
    "    sleep(1)"
   ]
  },
  {
   "cell_type": "code",
   "execution_count": 11,
   "metadata": {},
   "outputs": [],
   "source": [
    "try:\n",
    "    driver.find_element('css selector', '#tg3 > div > fieldset > div.capaSelecTodosNinguno > button:nth-child(3) > i').click()\n",
    "except:\n",
    "    print('No encuentro su sexo')\n",
    "sleep(3)"
   ]
  },
  {
   "cell_type": "code",
   "execution_count": 12,
   "metadata": {},
   "outputs": [],
   "source": [
    "for i in range(2, 4):\n",
    "    WebDriverWait(driver, 5).until(EC.element_to_be_clickable((By.XPATH, f'//*[@id=\"cri3\"]/option[{i}]'))).click()\n",
    "    sleep(1)"
   ]
  },
  {
   "cell_type": "code",
   "execution_count": 13,
   "metadata": {},
   "outputs": [],
   "source": [
    "# for n in range(2,4):\n",
    "#     WebDriverWait(driver, 10).until(EC.element_to_be_clickable((By.XPATH, f'//*[@id=\"cri1\"]/option[{n}]'))).click()\n",
    "#     sleep(1)\n",
    "\n",
    "# no traer de regreso"
   ]
  },
  {
   "cell_type": "code",
   "execution_count": 14,
   "metadata": {},
   "outputs": [],
   "source": [
    "try:\n",
    "    driver.find_element('css selector', '#caja_periodo > div > fieldset > div.capaSelecTodosNinguno > button:nth-child(3) > i').click()\n",
    "except:\n",
    "    print('No encuentro el blanco')\n",
    "sleep(3)"
   ]
  },
  {
   "cell_type": "code",
   "execution_count": 15,
   "metadata": {},
   "outputs": [],
   "source": [
    "for n in range(2,5):\n",
    "    WebDriverWait(driver, 10).until(EC.element_to_be_clickable((By.XPATH, f'//*[@id=\"periodo\"]/option[{n}]'))).click()\n",
    "    sleep(1)"
   ]
  },
  {
   "cell_type": "code",
   "execution_count": 16,
   "metadata": {},
   "outputs": [],
   "source": [
    "driver.execute_script(\"window.scrollBy(0, 500);\") "
   ]
  },
  {
   "cell_type": "code",
   "execution_count": 17,
   "metadata": {},
   "outputs": [],
   "source": [
    "driver.find_element(\"css selector\", \"#botonConsulSele\").click()"
   ]
  },
  {
   "cell_type": "code",
   "execution_count": 18,
   "metadata": {},
   "outputs": [],
   "source": [
    "sleep(1)\n",
    "driver.find_element(\"xpath\", \"/html/body/div[1]/main/ul/li/div/div/form[2]/button/i\").click()\n",
    "iframe = WebDriverWait(driver, 10).until(EC.presence_of_element_located((By.XPATH, '//*[@id=\"thickBoxINEfrm\"]')))\n",
    "sleep(1)\n",
    "driver.switch_to.frame(iframe)\n",
    "sleep(1)\n",
    "driver.find_element(\"xpath\", \"/html/body/form/ul/li[4]/label\").click()\n",
    "sleep(1)\n",
    "driver.switch_to.default_content()\n",
    "sleep(1)\n",
    "# aqui acaba todo"
   ]
  },
  {
   "cell_type": "code",
   "execution_count": null,
   "metadata": {},
   "outputs": [],
   "source": []
  }
 ],
 "metadata": {
  "kernelspec": {
   "display_name": "Python 3",
   "language": "python",
   "name": "python3"
  },
  "language_info": {
   "codemirror_mode": {
    "name": "ipython",
    "version": 3
   },
   "file_extension": ".py",
   "mimetype": "text/x-python",
   "name": "python",
   "nbconvert_exporter": "python",
   "pygments_lexer": "ipython3",
   "version": "3.11.9"
  }
 },
 "nbformat": 4,
 "nbformat_minor": 2
}
