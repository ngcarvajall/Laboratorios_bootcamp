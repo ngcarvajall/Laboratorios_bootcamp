{
 "cells": [
  {
   "cell_type": "code",
   "execution_count": 1,
   "metadata": {},
   "outputs": [],
   "source": [
    "import requests\n",
    "#import pandas as pd\n",
    "import dotenv as dotenv\n",
    "import os\n",
    "\n",
    "\n",
    "# Para generar una barra de proceso en los bucles for\n",
    "# -----------------------------------------------------------------------\n",
    "from tqdm import tqdm\n",
    "\n",
    "# Para trabajar con ficheros\n",
    "# -----------------------------------------------------------------------\n",
    "import os\n",
    "import pandas as pd\n",
    "import re"
   ]
  },
  {
   "cell_type": "markdown",
   "metadata": {},
   "source": [
    "* Iniciamos con la Demanda eléctrica"
   ]
  },
  {
   "cell_type": "code",
   "execution_count": 2,
   "metadata": {},
   "outputs": [],
   "source": [
    "# Vamos a definir las rutas de las carpetas de donde sacamos los archivos y donde queremos almacenar los resutlados después de toda la transformación\n",
    "ruta_origen = 'C:\\\\Users\\\\DELL\\\\Git\\\\Laboratorio_ETL\\\\datos_demanda_electrica'\n",
    "df = pd.DataFrame() #crear df para concatenar\n",
    "for archivo in (os.listdir(ruta_origen)):\n",
    "    # ruta_archivo = os.path.join(ruta_origen, archivo)\n",
    "    df_variante = pd.read_csv(f'C:\\\\Users\\\\DELL\\\\Git\\\\Laboratorio_ETL\\\\datos_demanda_electrica\\\\{archivo}', index_col=0)\n",
    "    #creo uno dentro \n",
    "    #leer el csv{archivo}\n",
    "    nombre_limpio = archivo.split('.csv') #split.csv\n",
    "    nombre_junto_ano = nombre_limpio[0].split('_')\n",
    "    nombre = nombre_junto_ano[0]\n",
    "    fecha = nombre_junto_ano[1]\n",
    "    df_variante['CCAA'] = nombre\n",
    "    df_variante['Año'] = fecha\n",
    "    df = pd.concat([df, df_variante])\n",
    "    #saconombre\n",
    "    #sacoaño\n",
    "    #creo columnas nuevas, \n",
    "    #creo data frame"
   ]
  },
  {
   "cell_type": "code",
   "execution_count": 3,
   "metadata": {},
   "outputs": [
    {
     "name": "stdout",
     "output_type": "stream",
     "text": [
      "<class 'pandas.core.frame.DataFrame'>\n",
      "Index: 684 entries, 0 to 11\n",
      "Data columns (total 6 columns):\n",
      " #   Column      Non-Null Count  Dtype  \n",
      "---  ------      --------------  -----  \n",
      " 0   value       684 non-null    float64\n",
      " 1   percentage  684 non-null    int64  \n",
      " 2   datetime    684 non-null    object \n",
      " 3   COD-CCAA    684 non-null    int64  \n",
      " 4   CCAA        684 non-null    object \n",
      " 5   Año         684 non-null    object \n",
      "dtypes: float64(1), int64(2), object(3)\n",
      "memory usage: 37.4+ KB\n"
     ]
    }
   ],
   "source": [
    "df.info() #conozco mejor mis datos, ubico que no tengo nulos"
   ]
  },
  {
   "cell_type": "code",
   "execution_count": 4,
   "metadata": {},
   "outputs": [
    {
     "data": {
      "text/html": [
       "<div>\n",
       "<style scoped>\n",
       "    .dataframe tbody tr th:only-of-type {\n",
       "        vertical-align: middle;\n",
       "    }\n",
       "\n",
       "    .dataframe tbody tr th {\n",
       "        vertical-align: top;\n",
       "    }\n",
       "\n",
       "    .dataframe thead th {\n",
       "        text-align: right;\n",
       "    }\n",
       "</style>\n",
       "<table border=\"1\" class=\"dataframe\">\n",
       "  <thead>\n",
       "    <tr style=\"text-align: right;\">\n",
       "      <th></th>\n",
       "      <th>value</th>\n",
       "      <th>percentage</th>\n",
       "      <th>datetime</th>\n",
       "      <th>COD-CCAA</th>\n",
       "      <th>CCAA</th>\n",
       "      <th>Año</th>\n",
       "    </tr>\n",
       "  </thead>\n",
       "  <tbody>\n",
       "    <tr>\n",
       "      <th>0</th>\n",
       "      <td>3668893.328</td>\n",
       "      <td>1</td>\n",
       "      <td>2019-01-01T00:00:00.000+01:00</td>\n",
       "      <td>4</td>\n",
       "      <td>Andalucía</td>\n",
       "      <td>2019</td>\n",
       "    </tr>\n",
       "    <tr>\n",
       "      <th>1</th>\n",
       "      <td>3152278.091</td>\n",
       "      <td>1</td>\n",
       "      <td>2019-02-01T00:00:00.000+01:00</td>\n",
       "      <td>4</td>\n",
       "      <td>Andalucía</td>\n",
       "      <td>2019</td>\n",
       "    </tr>\n",
       "    <tr>\n",
       "      <th>2</th>\n",
       "      <td>3216356.360</td>\n",
       "      <td>1</td>\n",
       "      <td>2019-03-01T00:00:00.000+01:00</td>\n",
       "      <td>4</td>\n",
       "      <td>Andalucía</td>\n",
       "      <td>2019</td>\n",
       "    </tr>\n",
       "    <tr>\n",
       "      <th>3</th>\n",
       "      <td>3029639.973</td>\n",
       "      <td>1</td>\n",
       "      <td>2019-04-01T00:00:00.000+02:00</td>\n",
       "      <td>4</td>\n",
       "      <td>Andalucía</td>\n",
       "      <td>2019</td>\n",
       "    </tr>\n",
       "    <tr>\n",
       "      <th>4</th>\n",
       "      <td>3154123.467</td>\n",
       "      <td>1</td>\n",
       "      <td>2019-05-01T00:00:00.000+02:00</td>\n",
       "      <td>4</td>\n",
       "      <td>Andalucía</td>\n",
       "      <td>2019</td>\n",
       "    </tr>\n",
       "  </tbody>\n",
       "</table>\n",
       "</div>"
      ],
      "text/plain": [
       "         value  percentage                       datetime  COD-CCAA  \\\n",
       "0  3668893.328           1  2019-01-01T00:00:00.000+01:00         4   \n",
       "1  3152278.091           1  2019-02-01T00:00:00.000+01:00         4   \n",
       "2  3216356.360           1  2019-03-01T00:00:00.000+01:00         4   \n",
       "3  3029639.973           1  2019-04-01T00:00:00.000+02:00         4   \n",
       "4  3154123.467           1  2019-05-01T00:00:00.000+02:00         4   \n",
       "\n",
       "        CCAA   Año  \n",
       "0  Andalucía  2019  \n",
       "1  Andalucía  2019  \n",
       "2  Andalucía  2019  \n",
       "3  Andalucía  2019  \n",
       "4  Andalucía  2019  "
      ]
     },
     "execution_count": 4,
     "metadata": {},
     "output_type": "execute_result"
    }
   ],
   "source": [
    "df.head()"
   ]
  },
  {
   "cell_type": "code",
   "execution_count": 5,
   "metadata": {},
   "outputs": [
    {
     "name": "stderr",
     "output_type": "stream",
     "text": [
      "C:\\Users\\DELL\\AppData\\Local\\Temp\\ipykernel_16740\\3752892934.py:2: FutureWarning: In a future version of pandas, parsing datetimes with mixed time zones will raise an error unless `utc=True`. Please specify `utc=True` to opt in to the new behaviour and silence this warning. To create a `Series` with mixed offsets and `object` dtype, please use `apply` and `datetime.datetime.strptime`\n",
      "  df['datetime'] = pd.to_datetime(df['datetime'], utc= False)\n"
     ]
    }
   ],
   "source": [
    "# Convierte la columna a formato datetime\n",
    "df['datetime'] = pd.to_datetime(df['datetime'], utc= False)\n",
    "# no tuvo efecto pero sí pude aplicarle acciones de datetime"
   ]
  },
  {
   "cell_type": "code",
   "execution_count": 6,
   "metadata": {},
   "outputs": [],
   "source": [
    "df['datetime'] = df['datetime'].apply(lambda x: pd.to_datetime(x).strftime('%Y-%m')) # doy el formato que quiero\n",
    "\n",
    "df['Mes'] = df['datetime'].apply(lambda x: pd.to_datetime(x).month) #saco el mes para una nueva columna"
   ]
  },
  {
   "cell_type": "code",
   "execution_count": 7,
   "metadata": {},
   "outputs": [
    {
     "data": {
      "text/html": [
       "<div>\n",
       "<style scoped>\n",
       "    .dataframe tbody tr th:only-of-type {\n",
       "        vertical-align: middle;\n",
       "    }\n",
       "\n",
       "    .dataframe tbody tr th {\n",
       "        vertical-align: top;\n",
       "    }\n",
       "\n",
       "    .dataframe thead th {\n",
       "        text-align: right;\n",
       "    }\n",
       "</style>\n",
       "<table border=\"1\" class=\"dataframe\">\n",
       "  <thead>\n",
       "    <tr style=\"text-align: right;\">\n",
       "      <th></th>\n",
       "      <th>value</th>\n",
       "      <th>percentage</th>\n",
       "      <th>datetime</th>\n",
       "      <th>COD-CCAA</th>\n",
       "      <th>CCAA</th>\n",
       "      <th>Año</th>\n",
       "      <th>Mes</th>\n",
       "    </tr>\n",
       "  </thead>\n",
       "  <tbody>\n",
       "    <tr>\n",
       "      <th>0</th>\n",
       "      <td>3668893.328</td>\n",
       "      <td>1</td>\n",
       "      <td>2019-01</td>\n",
       "      <td>4</td>\n",
       "      <td>Andalucía</td>\n",
       "      <td>2019</td>\n",
       "      <td>1</td>\n",
       "    </tr>\n",
       "    <tr>\n",
       "      <th>1</th>\n",
       "      <td>3152278.091</td>\n",
       "      <td>1</td>\n",
       "      <td>2019-02</td>\n",
       "      <td>4</td>\n",
       "      <td>Andalucía</td>\n",
       "      <td>2019</td>\n",
       "      <td>2</td>\n",
       "    </tr>\n",
       "    <tr>\n",
       "      <th>2</th>\n",
       "      <td>3216356.360</td>\n",
       "      <td>1</td>\n",
       "      <td>2019-03</td>\n",
       "      <td>4</td>\n",
       "      <td>Andalucía</td>\n",
       "      <td>2019</td>\n",
       "      <td>3</td>\n",
       "    </tr>\n",
       "    <tr>\n",
       "      <th>3</th>\n",
       "      <td>3029639.973</td>\n",
       "      <td>1</td>\n",
       "      <td>2019-04</td>\n",
       "      <td>4</td>\n",
       "      <td>Andalucía</td>\n",
       "      <td>2019</td>\n",
       "      <td>4</td>\n",
       "    </tr>\n",
       "    <tr>\n",
       "      <th>4</th>\n",
       "      <td>3154123.467</td>\n",
       "      <td>1</td>\n",
       "      <td>2019-05</td>\n",
       "      <td>4</td>\n",
       "      <td>Andalucía</td>\n",
       "      <td>2019</td>\n",
       "      <td>5</td>\n",
       "    </tr>\n",
       "  </tbody>\n",
       "</table>\n",
       "</div>"
      ],
      "text/plain": [
       "         value  percentage datetime  COD-CCAA       CCAA   Año  Mes\n",
       "0  3668893.328           1  2019-01         4  Andalucía  2019    1\n",
       "1  3152278.091           1  2019-02         4  Andalucía  2019    2\n",
       "2  3216356.360           1  2019-03         4  Andalucía  2019    3\n",
       "3  3029639.973           1  2019-04         4  Andalucía  2019    4\n",
       "4  3154123.467           1  2019-05         4  Andalucía  2019    5"
      ]
     },
     "execution_count": 7,
     "metadata": {},
     "output_type": "execute_result"
    }
   ],
   "source": [
    "df.head()"
   ]
  },
  {
   "cell_type": "code",
   "execution_count": 8,
   "metadata": {},
   "outputs": [],
   "source": [
    "df = df.drop(columns='datetime') # elimino esa columna para tener dos columnas mas claras, mes y año"
   ]
  },
  {
   "cell_type": "code",
   "execution_count": 9,
   "metadata": {},
   "outputs": [
    {
     "data": {
      "text/html": [
       "<div>\n",
       "<style scoped>\n",
       "    .dataframe tbody tr th:only-of-type {\n",
       "        vertical-align: middle;\n",
       "    }\n",
       "\n",
       "    .dataframe tbody tr th {\n",
       "        vertical-align: top;\n",
       "    }\n",
       "\n",
       "    .dataframe thead th {\n",
       "        text-align: right;\n",
       "    }\n",
       "</style>\n",
       "<table border=\"1\" class=\"dataframe\">\n",
       "  <thead>\n",
       "    <tr style=\"text-align: right;\">\n",
       "      <th></th>\n",
       "      <th>value</th>\n",
       "      <th>percentage</th>\n",
       "      <th>COD-CCAA</th>\n",
       "      <th>CCAA</th>\n",
       "      <th>Año</th>\n",
       "      <th>Mes</th>\n",
       "    </tr>\n",
       "  </thead>\n",
       "  <tbody>\n",
       "    <tr>\n",
       "      <th>0</th>\n",
       "      <td>3668893.328</td>\n",
       "      <td>1</td>\n",
       "      <td>4</td>\n",
       "      <td>Andalucía</td>\n",
       "      <td>2019</td>\n",
       "      <td>1</td>\n",
       "    </tr>\n",
       "    <tr>\n",
       "      <th>1</th>\n",
       "      <td>3152278.091</td>\n",
       "      <td>1</td>\n",
       "      <td>4</td>\n",
       "      <td>Andalucía</td>\n",
       "      <td>2019</td>\n",
       "      <td>2</td>\n",
       "    </tr>\n",
       "    <tr>\n",
       "      <th>2</th>\n",
       "      <td>3216356.360</td>\n",
       "      <td>1</td>\n",
       "      <td>4</td>\n",
       "      <td>Andalucía</td>\n",
       "      <td>2019</td>\n",
       "      <td>3</td>\n",
       "    </tr>\n",
       "    <tr>\n",
       "      <th>3</th>\n",
       "      <td>3029639.973</td>\n",
       "      <td>1</td>\n",
       "      <td>4</td>\n",
       "      <td>Andalucía</td>\n",
       "      <td>2019</td>\n",
       "      <td>4</td>\n",
       "    </tr>\n",
       "    <tr>\n",
       "      <th>4</th>\n",
       "      <td>3154123.467</td>\n",
       "      <td>1</td>\n",
       "      <td>4</td>\n",
       "      <td>Andalucía</td>\n",
       "      <td>2019</td>\n",
       "      <td>5</td>\n",
       "    </tr>\n",
       "  </tbody>\n",
       "</table>\n",
       "</div>"
      ],
      "text/plain": [
       "         value  percentage  COD-CCAA       CCAA   Año  Mes\n",
       "0  3668893.328           1         4  Andalucía  2019    1\n",
       "1  3152278.091           1         4  Andalucía  2019    2\n",
       "2  3216356.360           1         4  Andalucía  2019    3\n",
       "3  3029639.973           1         4  Andalucía  2019    4\n",
       "4  3154123.467           1         4  Andalucía  2019    5"
      ]
     },
     "execution_count": 9,
     "metadata": {},
     "output_type": "execute_result"
    }
   ],
   "source": [
    "df.head()"
   ]
  },
  {
   "cell_type": "code",
   "execution_count": 10,
   "metadata": {},
   "outputs": [],
   "source": [
    "df['Año'] = df['Año'].astype(int)"
   ]
  },
  {
   "cell_type": "code",
   "execution_count": 11,
   "metadata": {},
   "outputs": [
    {
     "data": {
      "text/plain": [
       "np.int64(0)"
      ]
     },
     "execution_count": 11,
     "metadata": {},
     "output_type": "execute_result"
    }
   ],
   "source": [
    "df.duplicated().sum()"
   ]
  },
  {
   "cell_type": "markdown",
   "metadata": {},
   "source": [
    "Generación Estructura Renovables"
   ]
  },
  {
   "cell_type": "code",
   "execution_count": 12,
   "metadata": {},
   "outputs": [],
   "source": [
    "# Vamos a definir las rutas de las carpetas de donde sacamos los archivos y donde queremos almacenar los resutlados después de toda la transformación\n",
    "ruta_origen_gen = 'C:\\\\Users\\\\DELL\\\\Git\\\\Laboratorio_ETL\\\\datos_generacion_estructura'\n",
    "df_generacion = pd.DataFrame() #crear df para concatenar\n",
    "for archivo in (os.listdir(ruta_origen_gen)):\n",
    "    ruta_archivo = os.path.join(ruta_origen_gen, archivo)\n",
    "    df_variante_gen = pd.read_csv(ruta_archivo, index_col=0)\n",
    "    #creo uno dentro \n",
    "    #leer el csv{archivo}\n",
    "    nombre_limpio_gen = archivo.split('.csv') #split.csv\n",
    "    # print(nombre_limpio_gen)\n",
    "    nombre_junto_ano_gen = nombre_limpio_gen[0].split('_')\n",
    "    nombre_gen = nombre_junto_ano_gen[0]\n",
    "    # print(nombre_gen)\n",
    "    fecha_gen = nombre_junto_ano_gen[1]\n",
    "    # print(fecha_gen)\n",
    "    df_variante_gen['CCAA'] = nombre_gen\n",
    "    df_variante_gen['Año'] = fecha_gen\n",
    "    df_generacion = pd.concat([df_generacion, df_variante_gen])"
   ]
  },
  {
   "cell_type": "code",
   "execution_count": 13,
   "metadata": {},
   "outputs": [
    {
     "data": {
      "text/html": [
       "<div>\n",
       "<style scoped>\n",
       "    .dataframe tbody tr th:only-of-type {\n",
       "        vertical-align: middle;\n",
       "    }\n",
       "\n",
       "    .dataframe tbody tr th {\n",
       "        vertical-align: top;\n",
       "    }\n",
       "\n",
       "    .dataframe thead th {\n",
       "        text-align: right;\n",
       "    }\n",
       "</style>\n",
       "<table border=\"1\" class=\"dataframe\">\n",
       "  <thead>\n",
       "    <tr style=\"text-align: right;\">\n",
       "      <th></th>\n",
       "      <th>value</th>\n",
       "      <th>percentage</th>\n",
       "      <th>datetime</th>\n",
       "      <th>type</th>\n",
       "      <th>COD-CCAA</th>\n",
       "      <th>CCAA</th>\n",
       "      <th>Año</th>\n",
       "    </tr>\n",
       "  </thead>\n",
       "  <tbody>\n",
       "    <tr>\n",
       "      <th>0</th>\n",
       "      <td>25288.605</td>\n",
       "      <td>0.029517</td>\n",
       "      <td>2019-01-01T00:00:00.000+01:00</td>\n",
       "      <td>Hidráulica</td>\n",
       "      <td>4</td>\n",
       "      <td>Andalucía</td>\n",
       "      <td>2019</td>\n",
       "    </tr>\n",
       "    <tr>\n",
       "      <th>1</th>\n",
       "      <td>33933.350</td>\n",
       "      <td>0.030779</td>\n",
       "      <td>2019-02-01T00:00:00.000+01:00</td>\n",
       "      <td>Hidráulica</td>\n",
       "      <td>4</td>\n",
       "      <td>Andalucía</td>\n",
       "      <td>2019</td>\n",
       "    </tr>\n",
       "    <tr>\n",
       "      <th>2</th>\n",
       "      <td>35913.000</td>\n",
       "      <td>0.029645</td>\n",
       "      <td>2019-03-01T00:00:00.000+01:00</td>\n",
       "      <td>Hidráulica</td>\n",
       "      <td>4</td>\n",
       "      <td>Andalucía</td>\n",
       "      <td>2019</td>\n",
       "    </tr>\n",
       "    <tr>\n",
       "      <th>3</th>\n",
       "      <td>44050.848</td>\n",
       "      <td>0.041340</td>\n",
       "      <td>2019-04-01T00:00:00.000+02:00</td>\n",
       "      <td>Hidráulica</td>\n",
       "      <td>4</td>\n",
       "      <td>Andalucía</td>\n",
       "      <td>2019</td>\n",
       "    </tr>\n",
       "    <tr>\n",
       "      <th>4</th>\n",
       "      <td>88535.452</td>\n",
       "      <td>0.068497</td>\n",
       "      <td>2019-05-01T00:00:00.000+02:00</td>\n",
       "      <td>Hidráulica</td>\n",
       "      <td>4</td>\n",
       "      <td>Andalucía</td>\n",
       "      <td>2019</td>\n",
       "    </tr>\n",
       "  </tbody>\n",
       "</table>\n",
       "</div>"
      ],
      "text/plain": [
       "       value  percentage                       datetime        type  COD-CCAA  \\\n",
       "0  25288.605    0.029517  2019-01-01T00:00:00.000+01:00  Hidráulica         4   \n",
       "1  33933.350    0.030779  2019-02-01T00:00:00.000+01:00  Hidráulica         4   \n",
       "2  35913.000    0.029645  2019-03-01T00:00:00.000+01:00  Hidráulica         4   \n",
       "3  44050.848    0.041340  2019-04-01T00:00:00.000+02:00  Hidráulica         4   \n",
       "4  88535.452    0.068497  2019-05-01T00:00:00.000+02:00  Hidráulica         4   \n",
       "\n",
       "        CCAA   Año  \n",
       "0  Andalucía  2019  \n",
       "1  Andalucía  2019  \n",
       "2  Andalucía  2019  \n",
       "3  Andalucía  2019  \n",
       "4  Andalucía  2019  "
      ]
     },
     "execution_count": 13,
     "metadata": {},
     "output_type": "execute_result"
    }
   ],
   "source": [
    "df_generacion.head()"
   ]
  },
  {
   "cell_type": "markdown",
   "metadata": {},
   "source": [
    "value a mwh"
   ]
  },
  {
   "cell_type": "code",
   "execution_count": 14,
   "metadata": {},
   "outputs": [
    {
     "data": {
      "text/plain": [
       "array(['2019', '2020', '2021'], dtype=object)"
      ]
     },
     "execution_count": 14,
     "metadata": {},
     "output_type": "execute_result"
    }
   ],
   "source": [
    "df_generacion['Año'].unique()"
   ]
  },
  {
   "cell_type": "code",
   "execution_count": 15,
   "metadata": {},
   "outputs": [],
   "source": [
    "df_generacion['datetime'] = df_generacion['datetime'].apply(lambda x: pd.to_datetime(x).strftime('%Y-%m')) #modifico al formato que quiero"
   ]
  },
  {
   "cell_type": "code",
   "execution_count": 16,
   "metadata": {},
   "outputs": [],
   "source": [
    "df_generacion['Mes'] = df_generacion['datetime'].apply(lambda x: pd.to_datetime(x).month) #creo la columna años"
   ]
  },
  {
   "cell_type": "code",
   "execution_count": 17,
   "metadata": {},
   "outputs": [
    {
     "data": {
      "text/html": [
       "<div>\n",
       "<style scoped>\n",
       "    .dataframe tbody tr th:only-of-type {\n",
       "        vertical-align: middle;\n",
       "    }\n",
       "\n",
       "    .dataframe tbody tr th {\n",
       "        vertical-align: top;\n",
       "    }\n",
       "\n",
       "    .dataframe thead th {\n",
       "        text-align: right;\n",
       "    }\n",
       "</style>\n",
       "<table border=\"1\" class=\"dataframe\">\n",
       "  <thead>\n",
       "    <tr style=\"text-align: right;\">\n",
       "      <th></th>\n",
       "      <th>value</th>\n",
       "      <th>percentage</th>\n",
       "      <th>datetime</th>\n",
       "      <th>type</th>\n",
       "      <th>COD-CCAA</th>\n",
       "      <th>CCAA</th>\n",
       "      <th>Año</th>\n",
       "      <th>Mes</th>\n",
       "    </tr>\n",
       "  </thead>\n",
       "  <tbody>\n",
       "    <tr>\n",
       "      <th>0</th>\n",
       "      <td>25288.605</td>\n",
       "      <td>0.029517</td>\n",
       "      <td>2019-01</td>\n",
       "      <td>Hidráulica</td>\n",
       "      <td>4</td>\n",
       "      <td>Andalucía</td>\n",
       "      <td>2019</td>\n",
       "      <td>1</td>\n",
       "    </tr>\n",
       "    <tr>\n",
       "      <th>1</th>\n",
       "      <td>33933.350</td>\n",
       "      <td>0.030779</td>\n",
       "      <td>2019-02</td>\n",
       "      <td>Hidráulica</td>\n",
       "      <td>4</td>\n",
       "      <td>Andalucía</td>\n",
       "      <td>2019</td>\n",
       "      <td>2</td>\n",
       "    </tr>\n",
       "    <tr>\n",
       "      <th>2</th>\n",
       "      <td>35913.000</td>\n",
       "      <td>0.029645</td>\n",
       "      <td>2019-03</td>\n",
       "      <td>Hidráulica</td>\n",
       "      <td>4</td>\n",
       "      <td>Andalucía</td>\n",
       "      <td>2019</td>\n",
       "      <td>3</td>\n",
       "    </tr>\n",
       "    <tr>\n",
       "      <th>3</th>\n",
       "      <td>44050.848</td>\n",
       "      <td>0.041340</td>\n",
       "      <td>2019-04</td>\n",
       "      <td>Hidráulica</td>\n",
       "      <td>4</td>\n",
       "      <td>Andalucía</td>\n",
       "      <td>2019</td>\n",
       "      <td>4</td>\n",
       "    </tr>\n",
       "    <tr>\n",
       "      <th>4</th>\n",
       "      <td>88535.452</td>\n",
       "      <td>0.068497</td>\n",
       "      <td>2019-05</td>\n",
       "      <td>Hidráulica</td>\n",
       "      <td>4</td>\n",
       "      <td>Andalucía</td>\n",
       "      <td>2019</td>\n",
       "      <td>5</td>\n",
       "    </tr>\n",
       "  </tbody>\n",
       "</table>\n",
       "</div>"
      ],
      "text/plain": [
       "       value  percentage datetime        type  COD-CCAA       CCAA   Año  Mes\n",
       "0  25288.605    0.029517  2019-01  Hidráulica         4  Andalucía  2019    1\n",
       "1  33933.350    0.030779  2019-02  Hidráulica         4  Andalucía  2019    2\n",
       "2  35913.000    0.029645  2019-03  Hidráulica         4  Andalucía  2019    3\n",
       "3  44050.848    0.041340  2019-04  Hidráulica         4  Andalucía  2019    4\n",
       "4  88535.452    0.068497  2019-05  Hidráulica         4  Andalucía  2019    5"
      ]
     },
     "execution_count": 17,
     "metadata": {},
     "output_type": "execute_result"
    }
   ],
   "source": [
    "df_generacion.head()"
   ]
  },
  {
   "cell_type": "code",
   "execution_count": 18,
   "metadata": {},
   "outputs": [],
   "source": [
    "df_generacion = df_generacion.drop(columns='datetime') # elimino esta columna para ver mejor en las otras 2"
   ]
  },
  {
   "cell_type": "code",
   "execution_count": 19,
   "metadata": {},
   "outputs": [
    {
     "name": "stdout",
     "output_type": "stream",
     "text": [
      "<class 'pandas.core.frame.DataFrame'>\n",
      "Index: 3557 entries, 0 to 11\n",
      "Data columns (total 7 columns):\n",
      " #   Column      Non-Null Count  Dtype  \n",
      "---  ------      --------------  -----  \n",
      " 0   value       3557 non-null   float64\n",
      " 1   percentage  3557 non-null   float64\n",
      " 2   type        3557 non-null   object \n",
      " 3   COD-CCAA    3557 non-null   int64  \n",
      " 4   CCAA        3557 non-null   object \n",
      " 5   Año         3557 non-null   object \n",
      " 6   Mes         3557 non-null   int64  \n",
      "dtypes: float64(2), int64(2), object(3)\n",
      "memory usage: 222.3+ KB\n"
     ]
    }
   ],
   "source": [
    "df_generacion.info() #confirmo que no tengo nulos"
   ]
  },
  {
   "cell_type": "code",
   "execution_count": 20,
   "metadata": {},
   "outputs": [
    {
     "data": {
      "text/plain": [
       "np.int64(0)"
      ]
     },
     "execution_count": 20,
     "metadata": {},
     "output_type": "execute_result"
    }
   ],
   "source": [
    "df_generacion.duplicated().sum() # no tengo duplicados"
   ]
  },
  {
   "cell_type": "code",
   "execution_count": 21,
   "metadata": {},
   "outputs": [
    {
     "data": {
      "text/html": [
       "<div>\n",
       "<style scoped>\n",
       "    .dataframe tbody tr th:only-of-type {\n",
       "        vertical-align: middle;\n",
       "    }\n",
       "\n",
       "    .dataframe tbody tr th {\n",
       "        vertical-align: top;\n",
       "    }\n",
       "\n",
       "    .dataframe thead th {\n",
       "        text-align: right;\n",
       "    }\n",
       "</style>\n",
       "<table border=\"1\" class=\"dataframe\">\n",
       "  <thead>\n",
       "    <tr style=\"text-align: right;\">\n",
       "      <th></th>\n",
       "      <th>value</th>\n",
       "      <th>percentage</th>\n",
       "      <th>type</th>\n",
       "      <th>COD-CCAA</th>\n",
       "      <th>CCAA</th>\n",
       "      <th>Año</th>\n",
       "      <th>Mes</th>\n",
       "    </tr>\n",
       "  </thead>\n",
       "  <tbody>\n",
       "    <tr>\n",
       "      <th>11</th>\n",
       "      <td>33252.448</td>\n",
       "      <td>0.033001</td>\n",
       "      <td>Hidráulica</td>\n",
       "      <td>4</td>\n",
       "      <td>Andalucía</td>\n",
       "      <td>2019</td>\n",
       "      <td>12</td>\n",
       "    </tr>\n",
       "    <tr>\n",
       "      <th>11</th>\n",
       "      <td>684672.055</td>\n",
       "      <td>0.679492</td>\n",
       "      <td>Eólica</td>\n",
       "      <td>4</td>\n",
       "      <td>Andalucía</td>\n",
       "      <td>2019</td>\n",
       "      <td>12</td>\n",
       "    </tr>\n",
       "    <tr>\n",
       "      <th>11</th>\n",
       "      <td>120605.521</td>\n",
       "      <td>0.119693</td>\n",
       "      <td>Solar fotovoltaica</td>\n",
       "      <td>4</td>\n",
       "      <td>Andalucía</td>\n",
       "      <td>2019</td>\n",
       "      <td>12</td>\n",
       "    </tr>\n",
       "    <tr>\n",
       "      <th>11</th>\n",
       "      <td>38142.147</td>\n",
       "      <td>0.037854</td>\n",
       "      <td>Solar térmica</td>\n",
       "      <td>4</td>\n",
       "      <td>Andalucía</td>\n",
       "      <td>2019</td>\n",
       "      <td>12</td>\n",
       "    </tr>\n",
       "    <tr>\n",
       "      <th>11</th>\n",
       "      <td>130950.924</td>\n",
       "      <td>0.129960</td>\n",
       "      <td>Otras renovables</td>\n",
       "      <td>4</td>\n",
       "      <td>Andalucía</td>\n",
       "      <td>2019</td>\n",
       "      <td>12</td>\n",
       "    </tr>\n",
       "    <tr>\n",
       "      <th>11</th>\n",
       "      <td>1007623.095</td>\n",
       "      <td>1.000000</td>\n",
       "      <td>Generación renovable</td>\n",
       "      <td>4</td>\n",
       "      <td>Andalucía</td>\n",
       "      <td>2019</td>\n",
       "      <td>12</td>\n",
       "    </tr>\n",
       "  </tbody>\n",
       "</table>\n",
       "</div>"
      ],
      "text/plain": [
       "          value  percentage                  type  COD-CCAA       CCAA   Año  \\\n",
       "11    33252.448    0.033001            Hidráulica         4  Andalucía  2019   \n",
       "11   684672.055    0.679492                Eólica         4  Andalucía  2019   \n",
       "11   120605.521    0.119693    Solar fotovoltaica         4  Andalucía  2019   \n",
       "11    38142.147    0.037854         Solar térmica         4  Andalucía  2019   \n",
       "11   130950.924    0.129960      Otras renovables         4  Andalucía  2019   \n",
       "11  1007623.095    1.000000  Generación renovable         4  Andalucía  2019   \n",
       "\n",
       "    Mes  \n",
       "11   12  \n",
       "11   12  \n",
       "11   12  \n",
       "11   12  \n",
       "11   12  \n",
       "11   12  "
      ]
     },
     "execution_count": 21,
     "metadata": {},
     "output_type": "execute_result"
    }
   ],
   "source": [
    "df_generacion[(df_generacion['CCAA'] == 'Andalucía') & (df_generacion['Año'] == '2019') & (df_generacion['Mes'] == 12)]"
   ]
  },
  {
   "cell_type": "code",
   "execution_count": 22,
   "metadata": {},
   "outputs": [
    {
     "data": {
      "text/plain": [
       "value         float64\n",
       "percentage    float64\n",
       "type           object\n",
       "COD-CCAA        int64\n",
       "CCAA           object\n",
       "Año            object\n",
       "Mes             int64\n",
       "dtype: object"
      ]
     },
     "execution_count": 22,
     "metadata": {},
     "output_type": "execute_result"
    }
   ],
   "source": [
    "df_generacion.dtypes"
   ]
  },
  {
   "cell_type": "code",
   "execution_count": 23,
   "metadata": {},
   "outputs": [],
   "source": [
    "df_generacion['Año'] = df_generacion['Año'].astype(int) #cambio el formato de año"
   ]
  },
  {
   "cell_type": "code",
   "execution_count": 24,
   "metadata": {},
   "outputs": [],
   "source": [
    "df_generacion = df_generacion.rename(columns={\"value\": \"Energía (MWh)\"})"
   ]
  },
  {
   "cell_type": "code",
   "execution_count": 25,
   "metadata": {},
   "outputs": [],
   "source": [
    "df_generacion = df_generacion.rename(columns={\"percentage\": \"Porcentage de Generación Renovable\"})"
   ]
  },
  {
   "cell_type": "markdown",
   "metadata": {},
   "source": [
    "Ahora voy a crear las tablas asociadas a mis tablas principales."
   ]
  },
  {
   "cell_type": "code",
   "execution_count": 26,
   "metadata": {},
   "outputs": [
    {
     "data": {
      "text/html": [
       "<div>\n",
       "<style scoped>\n",
       "    .dataframe tbody tr th:only-of-type {\n",
       "        vertical-align: middle;\n",
       "    }\n",
       "\n",
       "    .dataframe tbody tr th {\n",
       "        vertical-align: top;\n",
       "    }\n",
       "\n",
       "    .dataframe thead th {\n",
       "        text-align: right;\n",
       "    }\n",
       "</style>\n",
       "<table border=\"1\" class=\"dataframe\">\n",
       "  <thead>\n",
       "    <tr style=\"text-align: right;\">\n",
       "      <th></th>\n",
       "      <th>Energía (MWh)</th>\n",
       "      <th>Porcentage de Generación Renovable</th>\n",
       "      <th>type</th>\n",
       "      <th>COD-CCAA</th>\n",
       "      <th>CCAA</th>\n",
       "      <th>Año</th>\n",
       "      <th>Mes</th>\n",
       "    </tr>\n",
       "  </thead>\n",
       "  <tbody>\n",
       "    <tr>\n",
       "      <th>0</th>\n",
       "      <td>25288.605</td>\n",
       "      <td>0.029517</td>\n",
       "      <td>Hidráulica</td>\n",
       "      <td>4</td>\n",
       "      <td>Andalucía</td>\n",
       "      <td>2019</td>\n",
       "      <td>1</td>\n",
       "    </tr>\n",
       "    <tr>\n",
       "      <th>1</th>\n",
       "      <td>33933.350</td>\n",
       "      <td>0.030779</td>\n",
       "      <td>Hidráulica</td>\n",
       "      <td>4</td>\n",
       "      <td>Andalucía</td>\n",
       "      <td>2019</td>\n",
       "      <td>2</td>\n",
       "    </tr>\n",
       "    <tr>\n",
       "      <th>2</th>\n",
       "      <td>35913.000</td>\n",
       "      <td>0.029645</td>\n",
       "      <td>Hidráulica</td>\n",
       "      <td>4</td>\n",
       "      <td>Andalucía</td>\n",
       "      <td>2019</td>\n",
       "      <td>3</td>\n",
       "    </tr>\n",
       "    <tr>\n",
       "      <th>3</th>\n",
       "      <td>44050.848</td>\n",
       "      <td>0.041340</td>\n",
       "      <td>Hidráulica</td>\n",
       "      <td>4</td>\n",
       "      <td>Andalucía</td>\n",
       "      <td>2019</td>\n",
       "      <td>4</td>\n",
       "    </tr>\n",
       "    <tr>\n",
       "      <th>4</th>\n",
       "      <td>88535.452</td>\n",
       "      <td>0.068497</td>\n",
       "      <td>Hidráulica</td>\n",
       "      <td>4</td>\n",
       "      <td>Andalucía</td>\n",
       "      <td>2019</td>\n",
       "      <td>5</td>\n",
       "    </tr>\n",
       "  </tbody>\n",
       "</table>\n",
       "</div>"
      ],
      "text/plain": [
       "   Energía (MWh)  Porcentage de Generación Renovable        type  COD-CCAA  \\\n",
       "0      25288.605                            0.029517  Hidráulica         4   \n",
       "1      33933.350                            0.030779  Hidráulica         4   \n",
       "2      35913.000                            0.029645  Hidráulica         4   \n",
       "3      44050.848                            0.041340  Hidráulica         4   \n",
       "4      88535.452                            0.068497  Hidráulica         4   \n",
       "\n",
       "        CCAA   Año  Mes  \n",
       "0  Andalucía  2019    1  \n",
       "1  Andalucía  2019    2  \n",
       "2  Andalucía  2019    3  \n",
       "3  Andalucía  2019    4  \n",
       "4  Andalucía  2019    5  "
      ]
     },
     "execution_count": 26,
     "metadata": {},
     "output_type": "execute_result"
    }
   ],
   "source": [
    "df_generacion.head()"
   ]
  },
  {
   "cell_type": "code",
   "execution_count": 27,
   "metadata": {},
   "outputs": [],
   "source": [
    "df_ccaa = df_generacion[['COD-CCAA', 'CCAA' ]].drop_duplicates().reset_index(drop=True)"
   ]
  },
  {
   "cell_type": "code",
   "execution_count": 28,
   "metadata": {},
   "outputs": [
    {
     "data": {
      "text/html": [
       "<div>\n",
       "<style scoped>\n",
       "    .dataframe tbody tr th:only-of-type {\n",
       "        vertical-align: middle;\n",
       "    }\n",
       "\n",
       "    .dataframe tbody tr th {\n",
       "        vertical-align: top;\n",
       "    }\n",
       "\n",
       "    .dataframe thead th {\n",
       "        text-align: right;\n",
       "    }\n",
       "</style>\n",
       "<table border=\"1\" class=\"dataframe\">\n",
       "  <thead>\n",
       "    <tr style=\"text-align: right;\">\n",
       "      <th></th>\n",
       "      <th>COD-CCAA</th>\n",
       "      <th>CCAA</th>\n",
       "    </tr>\n",
       "  </thead>\n",
       "  <tbody>\n",
       "    <tr>\n",
       "      <th>0</th>\n",
       "      <td>4</td>\n",
       "      <td>Andalucía</td>\n",
       "    </tr>\n",
       "    <tr>\n",
       "      <th>1</th>\n",
       "      <td>5</td>\n",
       "      <td>Aragón</td>\n",
       "    </tr>\n",
       "    <tr>\n",
       "      <th>2</th>\n",
       "      <td>8742</td>\n",
       "      <td>Canarias</td>\n",
       "    </tr>\n",
       "    <tr>\n",
       "      <th>3</th>\n",
       "      <td>6</td>\n",
       "      <td>Cantabria</td>\n",
       "    </tr>\n",
       "    <tr>\n",
       "      <th>4</th>\n",
       "      <td>7</td>\n",
       "      <td>Castilla - La Mancha</td>\n",
       "    </tr>\n",
       "    <tr>\n",
       "      <th>5</th>\n",
       "      <td>8</td>\n",
       "      <td>Castilla y León</td>\n",
       "    </tr>\n",
       "    <tr>\n",
       "      <th>6</th>\n",
       "      <td>9</td>\n",
       "      <td>Cataluña</td>\n",
       "    </tr>\n",
       "    <tr>\n",
       "      <th>7</th>\n",
       "      <td>13</td>\n",
       "      <td>Comunidad de Madrid</td>\n",
       "    </tr>\n",
       "    <tr>\n",
       "      <th>8</th>\n",
       "      <td>14</td>\n",
       "      <td>Comunidad Foral de Navarra</td>\n",
       "    </tr>\n",
       "    <tr>\n",
       "      <th>9</th>\n",
       "      <td>15</td>\n",
       "      <td>Comunitat Valenciana</td>\n",
       "    </tr>\n",
       "    <tr>\n",
       "      <th>10</th>\n",
       "      <td>16</td>\n",
       "      <td>Extremadura</td>\n",
       "    </tr>\n",
       "    <tr>\n",
       "      <th>11</th>\n",
       "      <td>17</td>\n",
       "      <td>Galicia</td>\n",
       "    </tr>\n",
       "    <tr>\n",
       "      <th>12</th>\n",
       "      <td>8743</td>\n",
       "      <td>Illes Balears</td>\n",
       "    </tr>\n",
       "    <tr>\n",
       "      <th>13</th>\n",
       "      <td>20</td>\n",
       "      <td>La Rioja</td>\n",
       "    </tr>\n",
       "    <tr>\n",
       "      <th>14</th>\n",
       "      <td>8745</td>\n",
       "      <td>Melilla</td>\n",
       "    </tr>\n",
       "    <tr>\n",
       "      <th>15</th>\n",
       "      <td>10</td>\n",
       "      <td>País Vasco</td>\n",
       "    </tr>\n",
       "    <tr>\n",
       "      <th>16</th>\n",
       "      <td>11</td>\n",
       "      <td>Principado de Asturias</td>\n",
       "    </tr>\n",
       "    <tr>\n",
       "      <th>17</th>\n",
       "      <td>21</td>\n",
       "      <td>Región de Murcia</td>\n",
       "    </tr>\n",
       "  </tbody>\n",
       "</table>\n",
       "</div>"
      ],
      "text/plain": [
       "    COD-CCAA                        CCAA\n",
       "0          4                   Andalucía\n",
       "1          5                      Aragón\n",
       "2       8742                    Canarias\n",
       "3          6                   Cantabria\n",
       "4          7        Castilla - La Mancha\n",
       "5          8             Castilla y León\n",
       "6          9                    Cataluña\n",
       "7         13         Comunidad de Madrid\n",
       "8         14  Comunidad Foral de Navarra\n",
       "9         15        Comunitat Valenciana\n",
       "10        16                 Extremadura\n",
       "11        17                     Galicia\n",
       "12      8743               Illes Balears\n",
       "13        20                    La Rioja\n",
       "14      8745                     Melilla\n",
       "15        10                  País Vasco\n",
       "16        11      Principado de Asturias\n",
       "17        21            Región de Murcia"
      ]
     },
     "execution_count": 28,
     "metadata": {},
     "output_type": "execute_result"
    }
   ],
   "source": [
    "df_ccaa"
   ]
  },
  {
   "cell_type": "code",
   "execution_count": 29,
   "metadata": {},
   "outputs": [
    {
     "data": {
      "text/plain": [
       "(3557, 7)"
      ]
     },
     "execution_count": 29,
     "metadata": {},
     "output_type": "execute_result"
    }
   ],
   "source": [
    "df_generacion.shape"
   ]
  },
  {
   "cell_type": "code",
   "execution_count": 30,
   "metadata": {},
   "outputs": [],
   "source": [
    "df_generacion = df_generacion[df_generacion['type'] != 'Generación renovable'].reset_index(drop=True)\n",
    "#elimino la generacion renovable porque al final este elemento es la suma de los demas"
   ]
  },
  {
   "cell_type": "code",
   "execution_count": 31,
   "metadata": {},
   "outputs": [
    {
     "data": {
      "text/html": [
       "<div>\n",
       "<style scoped>\n",
       "    .dataframe tbody tr th:only-of-type {\n",
       "        vertical-align: middle;\n",
       "    }\n",
       "\n",
       "    .dataframe tbody tr th {\n",
       "        vertical-align: top;\n",
       "    }\n",
       "\n",
       "    .dataframe thead th {\n",
       "        text-align: right;\n",
       "    }\n",
       "</style>\n",
       "<table border=\"1\" class=\"dataframe\">\n",
       "  <thead>\n",
       "    <tr style=\"text-align: right;\">\n",
       "      <th></th>\n",
       "      <th>index</th>\n",
       "      <th>type</th>\n",
       "    </tr>\n",
       "  </thead>\n",
       "  <tbody>\n",
       "    <tr>\n",
       "      <th>0</th>\n",
       "      <td>0</td>\n",
       "      <td>Hidráulica</td>\n",
       "    </tr>\n",
       "  </tbody>\n",
       "</table>\n",
       "</div>"
      ],
      "text/plain": [
       "   index        type\n",
       "0      0  Hidráulica"
      ]
     },
     "execution_count": 31,
     "metadata": {},
     "output_type": "execute_result"
    }
   ],
   "source": [
    "df_tipo_generacion = df_generacion[['type']].drop_duplicates().reset_index(drop=True).reset_index()\n",
    "df_tipo_generacion.head(1)"
   ]
  },
  {
   "cell_type": "code",
   "execution_count": 32,
   "metadata": {},
   "outputs": [],
   "source": [
    "#df_mergeo_1['Id_Categoria'] = df_mergeo_1['Id_Categoria'].apply(lambda x: x + 1)"
   ]
  },
  {
   "cell_type": "code",
   "execution_count": 33,
   "metadata": {},
   "outputs": [],
   "source": [
    "df_generacion = df_generacion.drop(columns='CCAA')"
   ]
  },
  {
   "cell_type": "code",
   "execution_count": 34,
   "metadata": {},
   "outputs": [],
   "source": [
    "df_generacion_mergeo = df_generacion.merge(df_tipo_generacion, how='inner', left_on= 'type', right_on= 'type').drop(columns='type')"
   ]
  },
  {
   "cell_type": "code",
   "execution_count": 35,
   "metadata": {},
   "outputs": [
    {
     "data": {
      "text/html": [
       "<div>\n",
       "<style scoped>\n",
       "    .dataframe tbody tr th:only-of-type {\n",
       "        vertical-align: middle;\n",
       "    }\n",
       "\n",
       "    .dataframe tbody tr th {\n",
       "        vertical-align: top;\n",
       "    }\n",
       "\n",
       "    .dataframe thead th {\n",
       "        text-align: right;\n",
       "    }\n",
       "</style>\n",
       "<table border=\"1\" class=\"dataframe\">\n",
       "  <thead>\n",
       "    <tr style=\"text-align: right;\">\n",
       "      <th></th>\n",
       "      <th>Energía (MWh)</th>\n",
       "      <th>Porcentage de Generación Renovable</th>\n",
       "      <th>type</th>\n",
       "      <th>COD-CCAA</th>\n",
       "      <th>Año</th>\n",
       "      <th>Mes</th>\n",
       "    </tr>\n",
       "  </thead>\n",
       "  <tbody>\n",
       "    <tr>\n",
       "      <th>0</th>\n",
       "      <td>25288.605</td>\n",
       "      <td>0.029517</td>\n",
       "      <td>Hidráulica</td>\n",
       "      <td>4</td>\n",
       "      <td>2019</td>\n",
       "      <td>1</td>\n",
       "    </tr>\n",
       "    <tr>\n",
       "      <th>1</th>\n",
       "      <td>33933.350</td>\n",
       "      <td>0.030779</td>\n",
       "      <td>Hidráulica</td>\n",
       "      <td>4</td>\n",
       "      <td>2019</td>\n",
       "      <td>2</td>\n",
       "    </tr>\n",
       "    <tr>\n",
       "      <th>2</th>\n",
       "      <td>35913.000</td>\n",
       "      <td>0.029645</td>\n",
       "      <td>Hidráulica</td>\n",
       "      <td>4</td>\n",
       "      <td>2019</td>\n",
       "      <td>3</td>\n",
       "    </tr>\n",
       "    <tr>\n",
       "      <th>3</th>\n",
       "      <td>44050.848</td>\n",
       "      <td>0.041340</td>\n",
       "      <td>Hidráulica</td>\n",
       "      <td>4</td>\n",
       "      <td>2019</td>\n",
       "      <td>4</td>\n",
       "    </tr>\n",
       "    <tr>\n",
       "      <th>4</th>\n",
       "      <td>88535.452</td>\n",
       "      <td>0.068497</td>\n",
       "      <td>Hidráulica</td>\n",
       "      <td>4</td>\n",
       "      <td>2019</td>\n",
       "      <td>5</td>\n",
       "    </tr>\n",
       "  </tbody>\n",
       "</table>\n",
       "</div>"
      ],
      "text/plain": [
       "   Energía (MWh)  Porcentage de Generación Renovable        type  COD-CCAA  \\\n",
       "0      25288.605                            0.029517  Hidráulica         4   \n",
       "1      33933.350                            0.030779  Hidráulica         4   \n",
       "2      35913.000                            0.029645  Hidráulica         4   \n",
       "3      44050.848                            0.041340  Hidráulica         4   \n",
       "4      88535.452                            0.068497  Hidráulica         4   \n",
       "\n",
       "    Año  Mes  \n",
       "0  2019    1  \n",
       "1  2019    2  \n",
       "2  2019    3  \n",
       "3  2019    4  \n",
       "4  2019    5  "
      ]
     },
     "execution_count": 35,
     "metadata": {},
     "output_type": "execute_result"
    }
   ],
   "source": [
    "df_generacion.head()"
   ]
  },
  {
   "cell_type": "code",
   "execution_count": 36,
   "metadata": {},
   "outputs": [
    {
     "data": {
      "text/html": [
       "<div>\n",
       "<style scoped>\n",
       "    .dataframe tbody tr th:only-of-type {\n",
       "        vertical-align: middle;\n",
       "    }\n",
       "\n",
       "    .dataframe tbody tr th {\n",
       "        vertical-align: top;\n",
       "    }\n",
       "\n",
       "    .dataframe thead th {\n",
       "        text-align: right;\n",
       "    }\n",
       "</style>\n",
       "<table border=\"1\" class=\"dataframe\">\n",
       "  <thead>\n",
       "    <tr style=\"text-align: right;\">\n",
       "      <th></th>\n",
       "      <th>Energía (MWh)</th>\n",
       "      <th>Porcentage de Generación Renovable</th>\n",
       "      <th>COD-CCAA</th>\n",
       "      <th>Año</th>\n",
       "      <th>Mes</th>\n",
       "      <th>index</th>\n",
       "    </tr>\n",
       "  </thead>\n",
       "  <tbody>\n",
       "    <tr>\n",
       "      <th>0</th>\n",
       "      <td>25288.605</td>\n",
       "      <td>0.029517</td>\n",
       "      <td>4</td>\n",
       "      <td>2019</td>\n",
       "      <td>1</td>\n",
       "      <td>0</td>\n",
       "    </tr>\n",
       "    <tr>\n",
       "      <th>1</th>\n",
       "      <td>33933.350</td>\n",
       "      <td>0.030779</td>\n",
       "      <td>4</td>\n",
       "      <td>2019</td>\n",
       "      <td>2</td>\n",
       "      <td>0</td>\n",
       "    </tr>\n",
       "    <tr>\n",
       "      <th>2</th>\n",
       "      <td>35913.000</td>\n",
       "      <td>0.029645</td>\n",
       "      <td>4</td>\n",
       "      <td>2019</td>\n",
       "      <td>3</td>\n",
       "      <td>0</td>\n",
       "    </tr>\n",
       "    <tr>\n",
       "      <th>3</th>\n",
       "      <td>44050.848</td>\n",
       "      <td>0.041340</td>\n",
       "      <td>4</td>\n",
       "      <td>2019</td>\n",
       "      <td>4</td>\n",
       "      <td>0</td>\n",
       "    </tr>\n",
       "    <tr>\n",
       "      <th>4</th>\n",
       "      <td>88535.452</td>\n",
       "      <td>0.068497</td>\n",
       "      <td>4</td>\n",
       "      <td>2019</td>\n",
       "      <td>5</td>\n",
       "      <td>0</td>\n",
       "    </tr>\n",
       "    <tr>\n",
       "      <th>...</th>\n",
       "      <td>...</td>\n",
       "      <td>...</td>\n",
       "      <td>...</td>\n",
       "      <td>...</td>\n",
       "      <td>...</td>\n",
       "      <td>...</td>\n",
       "    </tr>\n",
       "    <tr>\n",
       "      <th>2904</th>\n",
       "      <td>3862.063</td>\n",
       "      <td>0.016348</td>\n",
       "      <td>21</td>\n",
       "      <td>2021</td>\n",
       "      <td>8</td>\n",
       "      <td>4</td>\n",
       "    </tr>\n",
       "    <tr>\n",
       "      <th>2905</th>\n",
       "      <td>3315.853</td>\n",
       "      <td>0.015251</td>\n",
       "      <td>21</td>\n",
       "      <td>2021</td>\n",
       "      <td>9</td>\n",
       "      <td>4</td>\n",
       "    </tr>\n",
       "    <tr>\n",
       "      <th>2906</th>\n",
       "      <td>3266.095</td>\n",
       "      <td>0.017445</td>\n",
       "      <td>21</td>\n",
       "      <td>2021</td>\n",
       "      <td>10</td>\n",
       "      <td>4</td>\n",
       "    </tr>\n",
       "    <tr>\n",
       "      <th>2907</th>\n",
       "      <td>2672.051</td>\n",
       "      <td>0.013830</td>\n",
       "      <td>21</td>\n",
       "      <td>2021</td>\n",
       "      <td>11</td>\n",
       "      <td>4</td>\n",
       "    </tr>\n",
       "    <tr>\n",
       "      <th>2908</th>\n",
       "      <td>2955.562</td>\n",
       "      <td>0.017457</td>\n",
       "      <td>21</td>\n",
       "      <td>2021</td>\n",
       "      <td>12</td>\n",
       "      <td>4</td>\n",
       "    </tr>\n",
       "  </tbody>\n",
       "</table>\n",
       "<p>2909 rows × 6 columns</p>\n",
       "</div>"
      ],
      "text/plain": [
       "      Energía (MWh)  Porcentage de Generación Renovable  COD-CCAA   Año  Mes  \\\n",
       "0         25288.605                            0.029517         4  2019    1   \n",
       "1         33933.350                            0.030779         4  2019    2   \n",
       "2         35913.000                            0.029645         4  2019    3   \n",
       "3         44050.848                            0.041340         4  2019    4   \n",
       "4         88535.452                            0.068497         4  2019    5   \n",
       "...             ...                                 ...       ...   ...  ...   \n",
       "2904       3862.063                            0.016348        21  2021    8   \n",
       "2905       3315.853                            0.015251        21  2021    9   \n",
       "2906       3266.095                            0.017445        21  2021   10   \n",
       "2907       2672.051                            0.013830        21  2021   11   \n",
       "2908       2955.562                            0.017457        21  2021   12   \n",
       "\n",
       "      index  \n",
       "0         0  \n",
       "1         0  \n",
       "2         0  \n",
       "3         0  \n",
       "4         0  \n",
       "...     ...  \n",
       "2904      4  \n",
       "2905      4  \n",
       "2906      4  \n",
       "2907      4  \n",
       "2908      4  \n",
       "\n",
       "[2909 rows x 6 columns]"
      ]
     },
     "execution_count": 36,
     "metadata": {},
     "output_type": "execute_result"
    }
   ],
   "source": [
    "df_generacion_mergeo"
   ]
  },
  {
   "cell_type": "code",
   "execution_count": 37,
   "metadata": {},
   "outputs": [],
   "source": [
    "df_generacion_mergeo['index'] = df_generacion_mergeo['index'].apply(lambda x: x + 1)\n"
   ]
  },
  {
   "cell_type": "code",
   "execution_count": 38,
   "metadata": {},
   "outputs": [],
   "source": [
    "df_tipo_generacion['index'] = df_tipo_generacion['index'].apply(lambda x: x+1)"
   ]
  },
  {
   "cell_type": "code",
   "execution_count": 39,
   "metadata": {},
   "outputs": [
    {
     "data": {
      "text/html": [
       "<div>\n",
       "<style scoped>\n",
       "    .dataframe tbody tr th:only-of-type {\n",
       "        vertical-align: middle;\n",
       "    }\n",
       "\n",
       "    .dataframe tbody tr th {\n",
       "        vertical-align: top;\n",
       "    }\n",
       "\n",
       "    .dataframe thead th {\n",
       "        text-align: right;\n",
       "    }\n",
       "</style>\n",
       "<table border=\"1\" class=\"dataframe\">\n",
       "  <thead>\n",
       "    <tr style=\"text-align: right;\">\n",
       "      <th></th>\n",
       "      <th>Energía (MWh)</th>\n",
       "      <th>Porcentage de Generación Renovable</th>\n",
       "      <th>COD-CCAA</th>\n",
       "      <th>Año</th>\n",
       "      <th>Mes</th>\n",
       "      <th>index</th>\n",
       "    </tr>\n",
       "  </thead>\n",
       "  <tbody>\n",
       "    <tr>\n",
       "      <th>0</th>\n",
       "      <td>25288.605</td>\n",
       "      <td>0.029517</td>\n",
       "      <td>4</td>\n",
       "      <td>2019</td>\n",
       "      <td>1</td>\n",
       "      <td>1</td>\n",
       "    </tr>\n",
       "    <tr>\n",
       "      <th>1</th>\n",
       "      <td>33933.350</td>\n",
       "      <td>0.030779</td>\n",
       "      <td>4</td>\n",
       "      <td>2019</td>\n",
       "      <td>2</td>\n",
       "      <td>1</td>\n",
       "    </tr>\n",
       "    <tr>\n",
       "      <th>2</th>\n",
       "      <td>35913.000</td>\n",
       "      <td>0.029645</td>\n",
       "      <td>4</td>\n",
       "      <td>2019</td>\n",
       "      <td>3</td>\n",
       "      <td>1</td>\n",
       "    </tr>\n",
       "    <tr>\n",
       "      <th>3</th>\n",
       "      <td>44050.848</td>\n",
       "      <td>0.041340</td>\n",
       "      <td>4</td>\n",
       "      <td>2019</td>\n",
       "      <td>4</td>\n",
       "      <td>1</td>\n",
       "    </tr>\n",
       "    <tr>\n",
       "      <th>4</th>\n",
       "      <td>88535.452</td>\n",
       "      <td>0.068497</td>\n",
       "      <td>4</td>\n",
       "      <td>2019</td>\n",
       "      <td>5</td>\n",
       "      <td>1</td>\n",
       "    </tr>\n",
       "  </tbody>\n",
       "</table>\n",
       "</div>"
      ],
      "text/plain": [
       "   Energía (MWh)  Porcentage de Generación Renovable  COD-CCAA   Año  Mes  \\\n",
       "0      25288.605                            0.029517         4  2019    1   \n",
       "1      33933.350                            0.030779         4  2019    2   \n",
       "2      35913.000                            0.029645         4  2019    3   \n",
       "3      44050.848                            0.041340         4  2019    4   \n",
       "4      88535.452                            0.068497         4  2019    5   \n",
       "\n",
       "   index  \n",
       "0      1  \n",
       "1      1  \n",
       "2      1  \n",
       "3      1  \n",
       "4      1  "
      ]
     },
     "execution_count": 39,
     "metadata": {},
     "output_type": "execute_result"
    }
   ],
   "source": [
    "df_generacion_mergeo.head()"
   ]
  },
  {
   "cell_type": "code",
   "execution_count": 40,
   "metadata": {},
   "outputs": [
    {
     "data": {
      "text/html": [
       "<div>\n",
       "<style scoped>\n",
       "    .dataframe tbody tr th:only-of-type {\n",
       "        vertical-align: middle;\n",
       "    }\n",
       "\n",
       "    .dataframe tbody tr th {\n",
       "        vertical-align: top;\n",
       "    }\n",
       "\n",
       "    .dataframe thead th {\n",
       "        text-align: right;\n",
       "    }\n",
       "</style>\n",
       "<table border=\"1\" class=\"dataframe\">\n",
       "  <thead>\n",
       "    <tr style=\"text-align: right;\">\n",
       "      <th></th>\n",
       "      <th>index</th>\n",
       "      <th>type</th>\n",
       "    </tr>\n",
       "  </thead>\n",
       "  <tbody>\n",
       "    <tr>\n",
       "      <th>0</th>\n",
       "      <td>1</td>\n",
       "      <td>Hidráulica</td>\n",
       "    </tr>\n",
       "    <tr>\n",
       "      <th>1</th>\n",
       "      <td>2</td>\n",
       "      <td>Eólica</td>\n",
       "    </tr>\n",
       "  </tbody>\n",
       "</table>\n",
       "</div>"
      ],
      "text/plain": [
       "   index        type\n",
       "0      1  Hidráulica\n",
       "1      2      Eólica"
      ]
     },
     "execution_count": 40,
     "metadata": {},
     "output_type": "execute_result"
    }
   ],
   "source": [
    "df_tipo_generacion.head(2)"
   ]
  },
  {
   "cell_type": "code",
   "execution_count": 41,
   "metadata": {},
   "outputs": [],
   "source": [
    "df_generacion_mergeo = df_generacion_mergeo.rename(columns={\"index\": \"Tipo de energía\"})"
   ]
  },
  {
   "cell_type": "code",
   "execution_count": 42,
   "metadata": {},
   "outputs": [],
   "source": [
    "df_anio = df_generacion_mergeo[['Año']].drop_duplicates().reset_index(drop=True).reset_index()\n",
    "# df_tipo_generacion['index'] = df_tipo_generacion['index'].apply(lambda x: x+1)"
   ]
  },
  {
   "cell_type": "code",
   "execution_count": 43,
   "metadata": {},
   "outputs": [],
   "source": [
    "df_anio['index'] = df_anio['index'].apply(lambda x: x+1)"
   ]
  },
  {
   "cell_type": "code",
   "execution_count": 44,
   "metadata": {},
   "outputs": [
    {
     "data": {
      "text/html": [
       "<div>\n",
       "<style scoped>\n",
       "    .dataframe tbody tr th:only-of-type {\n",
       "        vertical-align: middle;\n",
       "    }\n",
       "\n",
       "    .dataframe tbody tr th {\n",
       "        vertical-align: top;\n",
       "    }\n",
       "\n",
       "    .dataframe thead th {\n",
       "        text-align: right;\n",
       "    }\n",
       "</style>\n",
       "<table border=\"1\" class=\"dataframe\">\n",
       "  <thead>\n",
       "    <tr style=\"text-align: right;\">\n",
       "      <th></th>\n",
       "      <th>Energía (MWh)</th>\n",
       "      <th>Porcentage de Generación Renovable</th>\n",
       "      <th>COD-CCAA</th>\n",
       "      <th>Año</th>\n",
       "      <th>Mes</th>\n",
       "      <th>Tipo de energía</th>\n",
       "    </tr>\n",
       "  </thead>\n",
       "  <tbody>\n",
       "    <tr>\n",
       "      <th>0</th>\n",
       "      <td>25288.605</td>\n",
       "      <td>0.029517</td>\n",
       "      <td>4</td>\n",
       "      <td>2019</td>\n",
       "      <td>1</td>\n",
       "      <td>1</td>\n",
       "    </tr>\n",
       "    <tr>\n",
       "      <th>1</th>\n",
       "      <td>33933.350</td>\n",
       "      <td>0.030779</td>\n",
       "      <td>4</td>\n",
       "      <td>2019</td>\n",
       "      <td>2</td>\n",
       "      <td>1</td>\n",
       "    </tr>\n",
       "    <tr>\n",
       "      <th>2</th>\n",
       "      <td>35913.000</td>\n",
       "      <td>0.029645</td>\n",
       "      <td>4</td>\n",
       "      <td>2019</td>\n",
       "      <td>3</td>\n",
       "      <td>1</td>\n",
       "    </tr>\n",
       "    <tr>\n",
       "      <th>3</th>\n",
       "      <td>44050.848</td>\n",
       "      <td>0.041340</td>\n",
       "      <td>4</td>\n",
       "      <td>2019</td>\n",
       "      <td>4</td>\n",
       "      <td>1</td>\n",
       "    </tr>\n",
       "    <tr>\n",
       "      <th>4</th>\n",
       "      <td>88535.452</td>\n",
       "      <td>0.068497</td>\n",
       "      <td>4</td>\n",
       "      <td>2019</td>\n",
       "      <td>5</td>\n",
       "      <td>1</td>\n",
       "    </tr>\n",
       "  </tbody>\n",
       "</table>\n",
       "</div>"
      ],
      "text/plain": [
       "   Energía (MWh)  Porcentage de Generación Renovable  COD-CCAA   Año  Mes  \\\n",
       "0      25288.605                            0.029517         4  2019    1   \n",
       "1      33933.350                            0.030779         4  2019    2   \n",
       "2      35913.000                            0.029645         4  2019    3   \n",
       "3      44050.848                            0.041340         4  2019    4   \n",
       "4      88535.452                            0.068497         4  2019    5   \n",
       "\n",
       "   Tipo de energía  \n",
       "0                1  \n",
       "1                1  \n",
       "2                1  \n",
       "3                1  \n",
       "4                1  "
      ]
     },
     "execution_count": 44,
     "metadata": {},
     "output_type": "execute_result"
    }
   ],
   "source": [
    "df_generacion_mergeo.head()"
   ]
  },
  {
   "cell_type": "code",
   "execution_count": 45,
   "metadata": {},
   "outputs": [],
   "source": [
    "df_generacion_mergeo.to_csv('C:\\\\Users\\\\DELL\\\\Git\\\\Laboratorio_ETL\\\\datos\\\\datos_generacion.csv', index=False)"
   ]
  },
  {
   "cell_type": "code",
   "execution_count": 46,
   "metadata": {},
   "outputs": [],
   "source": [
    "df_tipo_generacion.columns = ['ID_Tipo_Energia', 'Tipo de energia']"
   ]
  },
  {
   "cell_type": "code",
   "execution_count": 47,
   "metadata": {},
   "outputs": [],
   "source": [
    "df_tipo_generacion.to_csv('C:\\\\Users\\\\DELL\\\\Git\\\\Laboratorio_ETL\\\\datos\\\\df_tipo_generacion.csv', index=False)"
   ]
  },
  {
   "cell_type": "code",
   "execution_count": 48,
   "metadata": {},
   "outputs": [],
   "source": [
    "df_ccaa.to_csv('C:\\\\Users\\\\DELL\\\\Git\\\\Laboratorio_ETL\\\\datos\\\\df_ccaa.csv', index=False)"
   ]
  },
  {
   "cell_type": "code",
   "execution_count": 49,
   "metadata": {},
   "outputs": [
    {
     "data": {
      "text/html": [
       "<div>\n",
       "<style scoped>\n",
       "    .dataframe tbody tr th:only-of-type {\n",
       "        vertical-align: middle;\n",
       "    }\n",
       "\n",
       "    .dataframe tbody tr th {\n",
       "        vertical-align: top;\n",
       "    }\n",
       "\n",
       "    .dataframe thead th {\n",
       "        text-align: right;\n",
       "    }\n",
       "</style>\n",
       "<table border=\"1\" class=\"dataframe\">\n",
       "  <thead>\n",
       "    <tr style=\"text-align: right;\">\n",
       "      <th></th>\n",
       "      <th>value</th>\n",
       "      <th>percentage</th>\n",
       "      <th>COD-CCAA</th>\n",
       "      <th>CCAA</th>\n",
       "      <th>Año</th>\n",
       "      <th>Mes</th>\n",
       "    </tr>\n",
       "  </thead>\n",
       "  <tbody>\n",
       "    <tr>\n",
       "      <th>0</th>\n",
       "      <td>3668893.328</td>\n",
       "      <td>1</td>\n",
       "      <td>4</td>\n",
       "      <td>Andalucía</td>\n",
       "      <td>2019</td>\n",
       "      <td>1</td>\n",
       "    </tr>\n",
       "    <tr>\n",
       "      <th>1</th>\n",
       "      <td>3152278.091</td>\n",
       "      <td>1</td>\n",
       "      <td>4</td>\n",
       "      <td>Andalucía</td>\n",
       "      <td>2019</td>\n",
       "      <td>2</td>\n",
       "    </tr>\n",
       "    <tr>\n",
       "      <th>2</th>\n",
       "      <td>3216356.360</td>\n",
       "      <td>1</td>\n",
       "      <td>4</td>\n",
       "      <td>Andalucía</td>\n",
       "      <td>2019</td>\n",
       "      <td>3</td>\n",
       "    </tr>\n",
       "    <tr>\n",
       "      <th>3</th>\n",
       "      <td>3029639.973</td>\n",
       "      <td>1</td>\n",
       "      <td>4</td>\n",
       "      <td>Andalucía</td>\n",
       "      <td>2019</td>\n",
       "      <td>4</td>\n",
       "    </tr>\n",
       "    <tr>\n",
       "      <th>4</th>\n",
       "      <td>3154123.467</td>\n",
       "      <td>1</td>\n",
       "      <td>4</td>\n",
       "      <td>Andalucía</td>\n",
       "      <td>2019</td>\n",
       "      <td>5</td>\n",
       "    </tr>\n",
       "  </tbody>\n",
       "</table>\n",
       "</div>"
      ],
      "text/plain": [
       "         value  percentage  COD-CCAA       CCAA   Año  Mes\n",
       "0  3668893.328           1         4  Andalucía  2019    1\n",
       "1  3152278.091           1         4  Andalucía  2019    2\n",
       "2  3216356.360           1         4  Andalucía  2019    3\n",
       "3  3029639.973           1         4  Andalucía  2019    4\n",
       "4  3154123.467           1         4  Andalucía  2019    5"
      ]
     },
     "execution_count": 49,
     "metadata": {},
     "output_type": "execute_result"
    }
   ],
   "source": [
    "df.head()"
   ]
  },
  {
   "cell_type": "code",
   "execution_count": 50,
   "metadata": {},
   "outputs": [],
   "source": [
    "df = df.rename(columns={'value':'Energía (MWh)', 'percentage': 'Porcentage_Generacion'})"
   ]
  },
  {
   "cell_type": "code",
   "execution_count": 51,
   "metadata": {},
   "outputs": [],
   "source": [
    "df = df.drop(columns='CCAA')"
   ]
  },
  {
   "cell_type": "code",
   "execution_count": 52,
   "metadata": {},
   "outputs": [],
   "source": [
    "df.to_csv('C:\\\\Users\\\\DELL\\\\Git\\\\Laboratorio_ETL\\\\datos\\\\df_demanda.csv', index=False)"
   ]
  },
  {
   "cell_type": "code",
   "execution_count": null,
   "metadata": {},
   "outputs": [],
   "source": []
  }
 ],
 "metadata": {
  "kernelspec": {
   "display_name": "Python 3",
   "language": "python",
   "name": "python3"
  },
  "language_info": {
   "codemirror_mode": {
    "name": "ipython",
    "version": 3
   },
   "file_extension": ".py",
   "mimetype": "text/x-python",
   "name": "python",
   "nbconvert_exporter": "python",
   "pygments_lexer": "ipython3",
   "version": "3.11.9"
  }
 },
 "nbformat": 4,
 "nbformat_minor": 2
}
