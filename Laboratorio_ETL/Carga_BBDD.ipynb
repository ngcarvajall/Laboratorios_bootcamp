{
 "cells": [
  {
   "cell_type": "code",
   "execution_count": 1,
   "metadata": {},
   "outputs": [],
   "source": [
    "import pandas as pd\n",
    "import psycopg2\n",
    "from psycopg2 import OperationalError, errorcodes, errors\n",
    "import numpy as np"
   ]
  },
  {
   "cell_type": "code",
   "execution_count": 2,
   "metadata": {},
   "outputs": [],
   "source": [
    "df_datos_demo = pd.read_csv(\"C:\\\\Users\\\\DELL\\\\Git\\\\Laboratorio_ETL\\\\datos\\\\datos_demograficos.csv\")\n",
    "df_datos_generacion = pd.read_csv(\"C:\\\\Users\\\\DELL\\\\Git\\\\Laboratorio_ETL\\\\datos\\\\datos_generacion.csv\")\n",
    "df_datos_PIB = pd.read_csv(\"C:\\\\Users\\\\DELL\\\\Git\\\\Laboratorio_ETL\\\\datos\\\\datos_PIB.csv\")\n",
    "df_anio = pd.read_csv(\"C:\\\\Users\\\\DELL\\\\Git\\\\Laboratorio_ETL\\\\datos\\\\df_anio.csv\")\n",
    "df_ccaa= pd.read_csv(\"C:\\\\Users\\\\DELL\\\\Git\\\\Laboratorio_ETL\\\\datos\\\\df_ccaa.csv\")\n",
    "df_demanda = pd.read_csv(\"C:\\\\Users\\\\DELL\\\\Git\\\\Laboratorio_ETL\\\\datos\\\\df_demanda.csv\")\n",
    "df_edades = pd.read_csv(\"C:\\\\Users\\\\DELL\\\\Git\\\\Laboratorio_ETL\\\\datos\\\\df_edades.csv\")\n",
    "df_nac_extran = pd.read_csv(\"C:\\\\Users\\\\DELL\\\\Git\\\\Laboratorio_ETL\\\\datos\\\\df_nac_extran.csv\")\n",
    "df_provincias = pd.read_csv(\"C:\\\\Users\\\\DELL\\\\Git\\\\Laboratorio_ETL\\\\datos\\\\df_provincias.csv\")\n",
    "df_sexos = pd.read_csv(\"C:\\\\Users\\\\DELL\\\\Git\\\\Laboratorio_ETL\\\\datos\\\\df_sexos.csv\")\n",
    "df_tipo_generacion = pd.read_csv(\"C:\\\\Users\\\\DELL\\\\Git\\\\Laboratorio_ETL\\\\datos\\\\df_tipo_generacion.csv\")"
   ]
  },
  {
   "cell_type": "code",
   "execution_count": 3,
   "metadata": {},
   "outputs": [
    {
     "data": {
      "text/plain": [
       "Energía (MWh)            float64\n",
       "Porcentage_Generacion      int64\n",
       "COD-CCAA                   int64\n",
       "Año                        int64\n",
       "Mes                        int64\n",
       "dtype: object"
      ]
     },
     "execution_count": 3,
     "metadata": {},
     "output_type": "execute_result"
    }
   ],
   "source": [
    "df_demanda.dtypes"
   ]
  },
  {
   "cell_type": "code",
   "execution_count": 4,
   "metadata": {},
   "outputs": [],
   "source": [
    "df_datos_demo = df_datos_demo.merge(df_anio, how='inner', left_on= 'Año', right_on= 'Año').drop(columns='Año')\n",
    "df_datos_generacion = df_datos_generacion.merge(df_anio, how='inner', left_on= 'Año', right_on= 'Año').drop(columns='Año')\n",
    "df_datos_PIB = df_datos_PIB.merge(df_anio, how='inner', left_on= 'Año', right_on= 'Año').drop(columns='Año')\n",
    "df_demanda = df_demanda.merge(df_anio, how='inner', left_on= 'Año', right_on= 'Año').drop(columns='Año')"
   ]
  },
  {
   "cell_type": "code",
   "execution_count": 5,
   "metadata": {},
   "outputs": [],
   "source": [
    "try:\n",
    "    conexion = psycopg2.connect(\n",
    "    database = 'ETL',\n",
    "    user = 'postgres',\n",
    "    password = 'admin',\n",
    "    host = 'localhost',\n",
    "    port = '5432')\n",
    "except OperationalError as e: #el alias es e\n",
    "    if e.pgcode == errorcodes.INVALID_PASSWORD:\n",
    "        print('la contraseña es erronea')\n",
    "    elif e.pgcode == errorcodes.CONNECTION_EXCEPTION:\n",
    "        print('error de conexion')\n",
    "    else:\n",
    "        print(f'el error es el siguiente {e}')"
   ]
  },
  {
   "cell_type": "code",
   "execution_count": 6,
   "metadata": {},
   "outputs": [],
   "source": [
    "cursor = conexion.cursor() #para crear la tabla desde aquí\n",
    "query_creacion_CCAA = \"\"\" \n",
    "    CREATE TABLE IF NOT EXISTS ccaa (\n",
    "    COD_CCAA int PRIMARY KEY,\n",
    "    CCAA varchar(100));\n",
    "\n",
    "\"\"\"\n",
    "\n",
    "cursor.execute(query_creacion_CCAA)\n",
    "conexion.commit()"
   ]
  },
  {
   "cell_type": "code",
   "execution_count": 7,
   "metadata": {},
   "outputs": [],
   "source": [
    "cursor = conexion.cursor() #para crear la tabla desde aquí\n",
    "query_creacion_type_gen = \"\"\" \n",
    "    CREATE TABLE IF NOT EXISTS tipo_generacion (\n",
    "    id_tipo_generacion int PRIMARY KEY,\n",
    "    tipo_generacion varchar(100));\n",
    "\n",
    "\"\"\"\n",
    "\n",
    "cursor.execute(query_creacion_type_gen)\n",
    "conexion.commit()"
   ]
  },
  {
   "cell_type": "code",
   "execution_count": 8,
   "metadata": {},
   "outputs": [],
   "source": [
    "cursor = conexion.cursor() #para crear la tabla desde aquí\n",
    "query_creacion_sexo = \"\"\" \n",
    "    CREATE TABLE IF NOT EXISTS sexo (\n",
    "    id_sexo int PRIMARY KEY,\n",
    "    sexo varchar(100));\n",
    "\n",
    "\"\"\"\n",
    "\n",
    "cursor.execute(query_creacion_sexo)\n",
    "conexion.commit()"
   ]
  },
  {
   "cell_type": "code",
   "execution_count": 9,
   "metadata": {},
   "outputs": [],
   "source": [
    "cursor = conexion.cursor() #para crear la tabla desde aquí\n",
    "query_creacion_grupo_edades = \"\"\" \n",
    "    CREATE TABLE IF NOT EXISTS edad (\n",
    "    id_grupo_edad int PRIMARY KEY,\n",
    "    grupo_edad varchar(100));\n",
    "\n",
    "\"\"\"\n",
    "\n",
    "cursor.execute(query_creacion_grupo_edades)\n",
    "conexion.commit()"
   ]
  },
  {
   "cell_type": "code",
   "execution_count": 10,
   "metadata": {},
   "outputs": [],
   "source": [
    "cursor = conexion.cursor() #para crear la tabla desde aquí\n",
    "query_creacion_grupo_nac_extr = \"\"\" \n",
    "    CREATE TABLE IF NOT EXISTS nacionales_extranjeros (\n",
    "    id_categoria int PRIMARY KEY,\n",
    "    categoria varchar(100));\n",
    "\n",
    "\"\"\"\n",
    "\n",
    "cursor.execute(query_creacion_grupo_nac_extr)\n",
    "conexion.commit()"
   ]
  },
  {
   "cell_type": "code",
   "execution_count": 11,
   "metadata": {},
   "outputs": [],
   "source": [
    "cursor = conexion.cursor() #para crear la tabla desde aquí\n",
    "query_creacion_provincias = \"\"\" \n",
    "    CREATE TABLE IF NOT EXISTS provincias (\n",
    "    id_provincia int PRIMARY KEY,\n",
    "    provincia varchar(100));\n",
    "\n",
    "\"\"\"\n",
    "\n",
    "cursor.execute(query_creacion_provincias)\n",
    "conexion.commit()"
   ]
  },
  {
   "cell_type": "code",
   "execution_count": 12,
   "metadata": {},
   "outputs": [],
   "source": [
    "cursor = conexion.cursor() #para crear la tabla desde aquí\n",
    "query_creacion_anio = \"\"\" \n",
    "    CREATE TABLE IF NOT EXISTS anio (\n",
    "    id_anio int PRIMARY KEY,\n",
    "    anio int);\n",
    "\n",
    "\"\"\"\n",
    "\n",
    "cursor.execute(query_creacion_anio)\n",
    "conexion.commit()"
   ]
  },
  {
   "cell_type": "code",
   "execution_count": 13,
   "metadata": {},
   "outputs": [],
   "source": [
    "cursor = conexion.cursor() #para crear la tabla desde aquí\n",
    "query_creacion_d_demo = \"\"\" \n",
    "    CREATE TABLE IF NOT EXISTS datos_demograficos (\n",
    "    total int,\n",
    "    id_provincia int, \n",
    "    id_grupo_edad int,\n",
    "    id_categoria int,\n",
    "    id_sexo int, \n",
    "    id_anio int,     \n",
    "    CONSTRAINT fk_provincias FOREIGN KEY (id_provincia)\n",
    "        REFERENCES provincias(id_provincia),\n",
    "    CONSTRAINT fk_edad FOREIGN KEY (id_grupo_edad)\n",
    "        REFERENCES edad(id_grupo_edad),\n",
    "    CONSTRAINT fk_nacionales_extranjeros FOREIGN KEY (id_categoria)\n",
    "        REFERENCES nacionales_extranjeros(id_categoria),\n",
    "    CONSTRAINT fk_sexo FOREIGN KEY (id_sexo)\n",
    "        REFERENCES sexo(id_sexo),\n",
    "    CONSTRAINT fk_anio FOREIGN KEY (id_anio)\n",
    "        REFERENCES anio(id_anio)\n",
    "\n",
    ");\n",
    "\n",
    "\"\"\"\n",
    "# recuerda que cambiaste el nombre del id_categoria por nacionales_extranjeros\n",
    "cursor.execute(query_creacion_d_demo)\n",
    "conexion.commit()"
   ]
  },
  {
   "cell_type": "code",
   "execution_count": 14,
   "metadata": {},
   "outputs": [],
   "source": [
    "cursor = conexion.cursor() #para crear la tabla desde aquí\n",
    "query_creacion_pib = \"\"\" \n",
    "    CREATE TABLE IF NOT EXISTS pib (\n",
    "    ramas_actividad varchar(300),\n",
    "    total int, \n",
    "    id_provincia int,\n",
    "    id_anio int,     \n",
    "    CONSTRAINT fk_provincias FOREIGN KEY (id_provincia)\n",
    "        REFERENCES provincias(id_provincia),\n",
    "    CONSTRAINT fk_anio FOREIGN KEY (id_anio)\n",
    "        REFERENCES anio(id_anio)\n",
    "\n",
    ");\n",
    "\n",
    "\"\"\"\n",
    "\n",
    "cursor.execute(query_creacion_pib)\n",
    "conexion.commit()"
   ]
  },
  {
   "cell_type": "code",
   "execution_count": 15,
   "metadata": {},
   "outputs": [],
   "source": [
    "cursor = conexion.cursor() #para crear la tabla desde aquí\n",
    "query_creacion_generacion = \"\"\" \n",
    "    CREATE TABLE IF NOT EXISTS generacion (\n",
    "    energia_mwh float,\n",
    "    porcentage_generacion float, \n",
    "    COD_CCAA int,\n",
    "    mes int,\n",
    "    id_tipo_generacion int, \n",
    "    id_anio int,     \n",
    "    CONSTRAINT fk_ccaa FOREIGN KEY (COD_CCAA)\n",
    "        REFERENCES ccaa(COD_CCAA),\n",
    "    CONSTRAINT fk_tipo_generacion FOREIGN KEY (id_tipo_generacion)\n",
    "        REFERENCES tipo_generacion(id_tipo_generacion),\n",
    "    CONSTRAINT fk_anio FOREIGN KEY (id_anio)\n",
    "        REFERENCES anio(id_anio)\n",
    "\n",
    ");\n",
    "\n",
    "\"\"\"\n",
    "\n",
    "cursor.execute(query_creacion_generacion)\n",
    "conexion.commit()"
   ]
  },
  {
   "cell_type": "code",
   "execution_count": 16,
   "metadata": {},
   "outputs": [],
   "source": [
    "cursor = conexion.cursor() #para crear la tabla desde aquí\n",
    "query_creacion_demanda = \"\"\" \n",
    "    CREATE TABLE IF NOT EXISTS demanda (\n",
    "    energia_mwh_ float,\n",
    "    porcentage_generacion int, \n",
    "    COD_CCAA int,\n",
    "    mes int,\n",
    "    id_anio int,     \n",
    "    CONSTRAINT fk_ccaa FOREIGN KEY (COD_CCAA)\n",
    "        REFERENCES ccaa(COD_CCAA),\n",
    "    CONSTRAINT fk_anio FOREIGN KEY (id_anio)\n",
    "        REFERENCES anio(id_anio)\n",
    "\n",
    ");\n",
    "\n",
    "\"\"\"\n",
    "\n",
    "cursor.execute(query_creacion_demanda)\n",
    "conexion.commit()"
   ]
  },
  {
   "cell_type": "code",
   "execution_count": 17,
   "metadata": {},
   "outputs": [
    {
     "data": {
      "text/plain": [
       "(4, 'Andalucía')"
      ]
     },
     "execution_count": 17,
     "metadata": {},
     "output_type": "execute_result"
    }
   ],
   "source": [
    "lista_tuplas1 = []\n",
    "for fila in df_ccaa.values:\n",
    "    lista_tuplas1.append(tuple(fila))\n",
    "lista_tuplas1[0]"
   ]
  },
  {
   "cell_type": "code",
   "execution_count": 18,
   "metadata": {},
   "outputs": [],
   "source": [
    "query_carga1 = 'INSERT INTO ccaa (COD_CCAA, CCAA) VALUES (%s, %s)'\n",
    "\n",
    "for valores in lista_tuplas1:\n",
    "    cursor.execute(query_carga1, valores)\n",
    "conexion.commit()"
   ]
  },
  {
   "cell_type": "code",
   "execution_count": 19,
   "metadata": {},
   "outputs": [],
   "source": [
    "lista_tuplas2 = []\n",
    "for fila in df_tipo_generacion.values:\n",
    "    lista_tuplas2.append(tuple(fila))\n",
    "\n",
    "query_carga2 = 'INSERT INTO tipo_generacion (id_tipo_generacion, tipo_generacion) VALUES (%s, %s)'\n",
    "\n",
    "for valores in lista_tuplas2:\n",
    "    cursor.execute(query_carga2, valores)\n",
    "conexion.commit()"
   ]
  },
  {
   "cell_type": "code",
   "execution_count": 20,
   "metadata": {},
   "outputs": [],
   "source": [
    "lista_tuplas3 = []\n",
    "for fila in df_sexos.values:\n",
    "    lista_tuplas3.append(tuple(fila))\n",
    "\n",
    "query_carga3 = 'INSERT INTO sexo (id_sexo, sexo) VALUES (%s, %s)'\n",
    "\n",
    "for valores in lista_tuplas3:\n",
    "    cursor.execute(query_carga3, valores)\n",
    "conexion.commit()"
   ]
  },
  {
   "cell_type": "code",
   "execution_count": 21,
   "metadata": {},
   "outputs": [],
   "source": [
    "lista_tuplas4 = []\n",
    "for fila in df_edades.values:\n",
    "    lista_tuplas4.append(tuple(fila))\n",
    "\n",
    "query_carga4 = 'INSERT INTO edad (id_grupo_edad, grupo_edad) VALUES (%s, %s)'\n",
    "\n",
    "for valores in lista_tuplas4:\n",
    "    cursor.execute(query_carga4, valores)\n",
    "conexion.commit()"
   ]
  },
  {
   "cell_type": "code",
   "execution_count": 22,
   "metadata": {},
   "outputs": [],
   "source": [
    "lista_tuplas5 = []\n",
    "for fila in df_nac_extran.values:\n",
    "    lista_tuplas5.append(tuple(fila))\n",
    "\n",
    "query_carga5 = 'INSERT INTO nacionales_extranjeros (id_categoria, categoria) VALUES (%s, %s)'\n",
    "\n",
    "for valores in lista_tuplas5:\n",
    "    cursor.execute(query_carga5, valores)\n",
    "conexion.commit()"
   ]
  },
  {
   "cell_type": "code",
   "execution_count": 23,
   "metadata": {},
   "outputs": [],
   "source": [
    "lista_tuplas6 = []\n",
    "for fila in df_provincias.values:\n",
    "    lista_tuplas6.append(tuple(fila))\n",
    "\n",
    "query_carga6 = 'INSERT INTO provincias (id_provincia, provincia) VALUES (%s, %s)'\n",
    "\n",
    "for valores in lista_tuplas6:\n",
    "    cursor.execute(query_carga6, valores)\n",
    "conexion.commit()"
   ]
  },
  {
   "cell_type": "code",
   "execution_count": 24,
   "metadata": {},
   "outputs": [],
   "source": [
    "lista_tuplas7 = []\n",
    "for fila in df_anio.values:\n",
    "    lista_tuplas7.append(tuple(fila))\n",
    "lista_tuplas7 = [tuple(int(valor) for valor in tupla) for tupla in lista_tuplas7]\n",
    "\n",
    "query_carga7 = 'INSERT INTO anio (id_anio, anio) VALUES (%s, %s)'\n",
    "\n",
    "for valores in lista_tuplas7:\n",
    "    cursor.execute(query_carga7, valores)\n",
    "conexion.commit()"
   ]
  },
  {
   "cell_type": "code",
   "execution_count": 25,
   "metadata": {},
   "outputs": [],
   "source": [
    "lista_tuplas8 = []\n",
    "for fila in df_datos_demo.values:\n",
    "    lista_tuplas8.append(tuple(fila))\n",
    "lista_tuplas8 = [tuple(int(valor) for valor in tupla) for tupla in lista_tuplas8]\n",
    "\n",
    "query_carga8 = \"\"\"INSERT INTO datos_demograficos \n",
    "(total, id_provincia, id_grupo_edad, id_categoria, id_sexo, id_anio) \n",
    "VALUES (%s, %s, %s, %s, %s, %s)\"\"\"\n",
    "\n",
    "for valores in lista_tuplas8:\n",
    "    cursor.execute(query_carga8, valores)\n",
    "conexion.commit()"
   ]
  },
  {
   "cell_type": "code",
   "execution_count": 26,
   "metadata": {},
   "outputs": [],
   "source": [
    "lista_tuplas9 = []\n",
    "for fila in df_datos_PIB.values:\n",
    "    lista_tuplas9.append(tuple(fila))\n",
    "\n",
    "query_carga9 = \"\"\"INSERT INTO pib \n",
    "(ramas_actividad, total, id_provincia, id_anio) \n",
    "VALUES (%s, %s, %s, %s)\"\"\"\n",
    "\n",
    "for valores in lista_tuplas9:\n",
    "    cursor.execute(query_carga9, valores)\n",
    "conexion.commit()"
   ]
  },
  {
   "cell_type": "code",
   "execution_count": 27,
   "metadata": {},
   "outputs": [],
   "source": [
    "lista_tuplas10 = []\n",
    "for fila in df_datos_generacion.values:\n",
    "    # Convertir las dos primeras columnas a float y las demás a int\n",
    "    fila_convertida = (float(fila[0]), float(fila[1]), int(fila[2]), int(fila[3]), int(fila[4]), int(fila[5]))\n",
    "    lista_tuplas10.append(fila_convertida)\n",
    "\n",
    "query_carga10 = \"\"\"INSERT INTO generacion \n",
    "(energia_mwh, porcentage_generacion, COD_CCAA, mes, id_tipo_generacion, id_anio) \n",
    "VALUES (%s, %s, %s, %s, %s, %s)\"\"\"\n",
    "\n",
    "for valores in lista_tuplas10:\n",
    "    cursor.execute(query_carga10, valores)\n",
    "conexion.commit()"
   ]
  },
  {
   "cell_type": "code",
   "execution_count": 28,
   "metadata": {},
   "outputs": [],
   "source": [
    "lista_tuplas11 = []\n",
    "for fila in df_demanda.values:\n",
    "    # Convertir las dos primeras columnas a float y las demás a int\n",
    "    fila_convertida = (float(fila[0]), int(fila[1]), int(fila[2]), int(fila[3]), int(fila[4]))\n",
    "    lista_tuplas10.append(fila_convertida)\n",
    "\n",
    "query_carga11 = \"\"\"INSERT INTO demanda \n",
    "(energia_mwh, porcentage_generacion, COD_CCAA, mes, id_anio) \n",
    "VALUES (%s, %s, %s, %s, %s)\"\"\"\n",
    "\n",
    "for valores in lista_tuplas11:\n",
    "    cursor.execute(query_carga11, valores)\n",
    "conexion.commit()"
   ]
  },
  {
   "cell_type": "code",
   "execution_count": null,
   "metadata": {},
   "outputs": [],
   "source": [
    "#list(df.itertuples(index=False, name=None)) # para sacar bien los datos cuando vienen como numpy"
   ]
  }
 ],
 "metadata": {
  "kernelspec": {
   "display_name": "Python 3",
   "language": "python",
   "name": "python3"
  },
  "language_info": {
   "codemirror_mode": {
    "name": "ipython",
    "version": 3
   },
   "file_extension": ".py",
   "mimetype": "text/x-python",
   "name": "python",
   "nbconvert_exporter": "python",
   "pygments_lexer": "ipython3",
   "version": "3.11.9"
  }
 },
 "nbformat": 4,
 "nbformat_minor": 2
}
